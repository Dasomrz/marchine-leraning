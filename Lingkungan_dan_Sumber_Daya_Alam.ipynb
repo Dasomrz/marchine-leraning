{
  "nbformat": 4,
  "nbformat_minor": 0,
  "metadata": {
    "colab": {
      "provenance": [],
      "collapsed_sections": []
    },
    "kernelspec": {
      "name": "python3",
      "display_name": "Python 3"
    },
    "language_info": {
      "name": "python"
    }
  },
  "cells": [
    {
      "cell_type": "code",
      "execution_count": 1,
      "metadata": {
        "colab": {
          "base_uri": "https://localhost:8080/"
        },
        "id": "6zNN1tEUYqJP",
        "outputId": "7a14be84-8b76-4e3b-cfee-4cd41d518f4d"
      },
      "outputs": [
        {
          "output_type": "stream",
          "name": "stdout",
          "text": [
            "Mounted at /content/drive\n"
          ]
        }
      ],
      "source": [
        "from google.colab import drive \n",
        "drive.mount('/content/drive')"
      ]
    },
    {
      "cell_type": "code",
      "source": [
        "import pandas as pd \n",
        "path = '/content/drive/MyDrive/CSV/sumber - Sheet1.csv' \n",
        "df = pd.read_csv(path) \n",
        "\n",
        "df.describe() "
      ],
      "metadata": {
        "colab": {
          "base_uri": "https://localhost:8080/",
          "height": 300
        },
        "id": "BxOVmOf6Yvdx",
        "outputId": "773b15fa-2f6d-4695-a8d4-f1e48c2d06d3"
      },
      "execution_count": 2,
      "outputs": [
        {
          "output_type": "execute_result",
          "data": {
            "text/plain": [
              "             tahun      panjang           luas\n",
              "count    25.000000    25.000000      25.000000\n",
              "mean   2012.680000  4349.680000  341828.800000\n",
              "std       0.476095  2230.664787  162934.046532\n",
              "min    2012.000000  1281.000000  148900.000000\n",
              "25%    2012.000000  2300.000000  188000.000000\n",
              "50%    2013.000000  4320.000000  292600.000000\n",
              "75%    2013.000000  5680.000000  464950.000000\n",
              "max    2013.000000  8330.000000  664950.000000"
            ],
            "text/html": [
              "\n",
              "  <div id=\"df-8e384166-631f-4130-90c2-ed044698f25f\">\n",
              "    <div class=\"colab-df-container\">\n",
              "      <div>\n",
              "<style scoped>\n",
              "    .dataframe tbody tr th:only-of-type {\n",
              "        vertical-align: middle;\n",
              "    }\n",
              "\n",
              "    .dataframe tbody tr th {\n",
              "        vertical-align: top;\n",
              "    }\n",
              "\n",
              "    .dataframe thead th {\n",
              "        text-align: right;\n",
              "    }\n",
              "</style>\n",
              "<table border=\"1\" class=\"dataframe\">\n",
              "  <thead>\n",
              "    <tr style=\"text-align: right;\">\n",
              "      <th></th>\n",
              "      <th>tahun</th>\n",
              "      <th>panjang</th>\n",
              "      <th>luas</th>\n",
              "    </tr>\n",
              "  </thead>\n",
              "  <tbody>\n",
              "    <tr>\n",
              "      <th>count</th>\n",
              "      <td>25.000000</td>\n",
              "      <td>25.000000</td>\n",
              "      <td>25.000000</td>\n",
              "    </tr>\n",
              "    <tr>\n",
              "      <th>mean</th>\n",
              "      <td>2012.680000</td>\n",
              "      <td>4349.680000</td>\n",
              "      <td>341828.800000</td>\n",
              "    </tr>\n",
              "    <tr>\n",
              "      <th>std</th>\n",
              "      <td>0.476095</td>\n",
              "      <td>2230.664787</td>\n",
              "      <td>162934.046532</td>\n",
              "    </tr>\n",
              "    <tr>\n",
              "      <th>min</th>\n",
              "      <td>2012.000000</td>\n",
              "      <td>1281.000000</td>\n",
              "      <td>148900.000000</td>\n",
              "    </tr>\n",
              "    <tr>\n",
              "      <th>25%</th>\n",
              "      <td>2012.000000</td>\n",
              "      <td>2300.000000</td>\n",
              "      <td>188000.000000</td>\n",
              "    </tr>\n",
              "    <tr>\n",
              "      <th>50%</th>\n",
              "      <td>2013.000000</td>\n",
              "      <td>4320.000000</td>\n",
              "      <td>292600.000000</td>\n",
              "    </tr>\n",
              "    <tr>\n",
              "      <th>75%</th>\n",
              "      <td>2013.000000</td>\n",
              "      <td>5680.000000</td>\n",
              "      <td>464950.000000</td>\n",
              "    </tr>\n",
              "    <tr>\n",
              "      <th>max</th>\n",
              "      <td>2013.000000</td>\n",
              "      <td>8330.000000</td>\n",
              "      <td>664950.000000</td>\n",
              "    </tr>\n",
              "  </tbody>\n",
              "</table>\n",
              "</div>\n",
              "      <button class=\"colab-df-convert\" onclick=\"convertToInteractive('df-8e384166-631f-4130-90c2-ed044698f25f')\"\n",
              "              title=\"Convert this dataframe to an interactive table.\"\n",
              "              style=\"display:none;\">\n",
              "        \n",
              "  <svg xmlns=\"http://www.w3.org/2000/svg\" height=\"24px\"viewBox=\"0 0 24 24\"\n",
              "       width=\"24px\">\n",
              "    <path d=\"M0 0h24v24H0V0z\" fill=\"none\"/>\n",
              "    <path d=\"M18.56 5.44l.94 2.06.94-2.06 2.06-.94-2.06-.94-.94-2.06-.94 2.06-2.06.94zm-11 1L8.5 8.5l.94-2.06 2.06-.94-2.06-.94L8.5 2.5l-.94 2.06-2.06.94zm10 10l.94 2.06.94-2.06 2.06-.94-2.06-.94-.94-2.06-.94 2.06-2.06.94z\"/><path d=\"M17.41 7.96l-1.37-1.37c-.4-.4-.92-.59-1.43-.59-.52 0-1.04.2-1.43.59L10.3 9.45l-7.72 7.72c-.78.78-.78 2.05 0 2.83L4 21.41c.39.39.9.59 1.41.59.51 0 1.02-.2 1.41-.59l7.78-7.78 2.81-2.81c.8-.78.8-2.07 0-2.86zM5.41 20L4 18.59l7.72-7.72 1.47 1.35L5.41 20z\"/>\n",
              "  </svg>\n",
              "      </button>\n",
              "      \n",
              "  <style>\n",
              "    .colab-df-container {\n",
              "      display:flex;\n",
              "      flex-wrap:wrap;\n",
              "      gap: 12px;\n",
              "    }\n",
              "\n",
              "    .colab-df-convert {\n",
              "      background-color: #E8F0FE;\n",
              "      border: none;\n",
              "      border-radius: 50%;\n",
              "      cursor: pointer;\n",
              "      display: none;\n",
              "      fill: #1967D2;\n",
              "      height: 32px;\n",
              "      padding: 0 0 0 0;\n",
              "      width: 32px;\n",
              "    }\n",
              "\n",
              "    .colab-df-convert:hover {\n",
              "      background-color: #E2EBFA;\n",
              "      box-shadow: 0px 1px 2px rgba(60, 64, 67, 0.3), 0px 1px 3px 1px rgba(60, 64, 67, 0.15);\n",
              "      fill: #174EA6;\n",
              "    }\n",
              "\n",
              "    [theme=dark] .colab-df-convert {\n",
              "      background-color: #3B4455;\n",
              "      fill: #D2E3FC;\n",
              "    }\n",
              "\n",
              "    [theme=dark] .colab-df-convert:hover {\n",
              "      background-color: #434B5C;\n",
              "      box-shadow: 0px 1px 3px 1px rgba(0, 0, 0, 0.15);\n",
              "      filter: drop-shadow(0px 1px 2px rgba(0, 0, 0, 0.3));\n",
              "      fill: #FFFFFF;\n",
              "    }\n",
              "  </style>\n",
              "\n",
              "      <script>\n",
              "        const buttonEl =\n",
              "          document.querySelector('#df-8e384166-631f-4130-90c2-ed044698f25f button.colab-df-convert');\n",
              "        buttonEl.style.display =\n",
              "          google.colab.kernel.accessAllowed ? 'block' : 'none';\n",
              "\n",
              "        async function convertToInteractive(key) {\n",
              "          const element = document.querySelector('#df-8e384166-631f-4130-90c2-ed044698f25f');\n",
              "          const dataTable =\n",
              "            await google.colab.kernel.invokeFunction('convertToInteractive',\n",
              "                                                     [key], {});\n",
              "          if (!dataTable) return;\n",
              "\n",
              "          const docLinkHtml = 'Like what you see? Visit the ' +\n",
              "            '<a target=\"_blank\" href=https://colab.research.google.com/notebooks/data_table.ipynb>data table notebook</a>'\n",
              "            + ' to learn more about interactive tables.';\n",
              "          element.innerHTML = '';\n",
              "          dataTable['output_type'] = 'display_data';\n",
              "          await google.colab.output.renderOutput(dataTable, element);\n",
              "          const docLink = document.createElement('div');\n",
              "          docLink.innerHTML = docLinkHtml;\n",
              "          element.appendChild(docLink);\n",
              "        }\n",
              "      </script>\n",
              "    </div>\n",
              "  </div>\n",
              "  "
            ]
          },
          "metadata": {},
          "execution_count": 2
        }
      ]
    },
    {
      "cell_type": "code",
      "source": [
        "df"
      ],
      "metadata": {
        "colab": {
          "base_uri": "https://localhost:8080/",
          "height": 833
        },
        "id": "AUcbFme-ZQE0",
        "outputId": "5517fa67-e4f6-4421-d91e-05d63a47d873"
      },
      "execution_count": 3,
      "outputs": [
        {
          "output_type": "execute_result",
          "data": {
            "text/plain": [
              "    tahun         nama_sungai  panjang    luas          peruntukan\n",
              "0    2013              Krukut     1281  148900  Air Baku Air Minum\n",
              "1    2013          Mookervart     1320  158000  Air Baku Air Minum\n",
              "2    2013          Kali Angke     1370  165200     Usaha Perkotaan\n",
              "3    2013       Sungai Grogol     1485  172500           Perikanan\n",
              "4    2013         Kali Cideng     1681  177000     Usaha Perkotaan\n",
              "5    2013      Kalibaru Timur     1920  182300     Usaha Perkotaan\n",
              "6    2013            Cipinang     2300  188000     Usaha Perkotaan\n",
              "7    2013              Sunter     2640  190000     Usaha Perkotaan\n",
              "8    2013              Cakung     3270  233600     Usaha Perkotaan\n",
              "9    2013              Buaran     3400  238200     Usaha Perkotaan\n",
              "10   2013      Kalibaru Barat     3800  240700  Air Baku Air Minum\n",
              "11   2013    Cengkareng Drain     4300  251900     Usaha Perkotaan\n",
              "12   2013         Jati Kramat     4320  292600     Usaha Perkotaan\n",
              "13   2013        Cakung Drain     4900  380000     Usaha Perkotaan\n",
              "14   2013               Ancol     5240  392600     Usaha Perkotaan\n",
              "15   2013  Banjir Kanal Barat     5250  414000           Perikanan\n",
              "16   2013  Banjir Kanal Timur     5430  433600           Perikanan\n",
              "17   2012            Ciliwung     5600  438200     Usaha Perkotaan\n",
              "18   2012              Krukut     5680  464950  Air Baku Air Minum\n",
              "19   2012          Mookervart     5900  480000  Air Baku Air Minum\n",
              "20   2012          Kali Angke     6540  514000     Usaha Perkotaan\n",
              "21   2012   Kali Pesanggrahan     7300  534810           Perikanan\n",
              "22   2012       Sungai Grogol     7600  554900           Perikanan\n",
              "23   2012         Kali Cideng     7885  634810     Usaha Perkotaan\n",
              "24   2012      Kalibaru Timur     8330  664950     Usaha Perkotaan"
            ],
            "text/html": [
              "\n",
              "  <div id=\"df-5f79f31c-57f5-4bc4-828f-4d643f5f36cd\">\n",
              "    <div class=\"colab-df-container\">\n",
              "      <div>\n",
              "<style scoped>\n",
              "    .dataframe tbody tr th:only-of-type {\n",
              "        vertical-align: middle;\n",
              "    }\n",
              "\n",
              "    .dataframe tbody tr th {\n",
              "        vertical-align: top;\n",
              "    }\n",
              "\n",
              "    .dataframe thead th {\n",
              "        text-align: right;\n",
              "    }\n",
              "</style>\n",
              "<table border=\"1\" class=\"dataframe\">\n",
              "  <thead>\n",
              "    <tr style=\"text-align: right;\">\n",
              "      <th></th>\n",
              "      <th>tahun</th>\n",
              "      <th>nama_sungai</th>\n",
              "      <th>panjang</th>\n",
              "      <th>luas</th>\n",
              "      <th>peruntukan</th>\n",
              "    </tr>\n",
              "  </thead>\n",
              "  <tbody>\n",
              "    <tr>\n",
              "      <th>0</th>\n",
              "      <td>2013</td>\n",
              "      <td>Krukut</td>\n",
              "      <td>1281</td>\n",
              "      <td>148900</td>\n",
              "      <td>Air Baku Air Minum</td>\n",
              "    </tr>\n",
              "    <tr>\n",
              "      <th>1</th>\n",
              "      <td>2013</td>\n",
              "      <td>Mookervart</td>\n",
              "      <td>1320</td>\n",
              "      <td>158000</td>\n",
              "      <td>Air Baku Air Minum</td>\n",
              "    </tr>\n",
              "    <tr>\n",
              "      <th>2</th>\n",
              "      <td>2013</td>\n",
              "      <td>Kali Angke</td>\n",
              "      <td>1370</td>\n",
              "      <td>165200</td>\n",
              "      <td>Usaha Perkotaan</td>\n",
              "    </tr>\n",
              "    <tr>\n",
              "      <th>3</th>\n",
              "      <td>2013</td>\n",
              "      <td>Sungai Grogol</td>\n",
              "      <td>1485</td>\n",
              "      <td>172500</td>\n",
              "      <td>Perikanan</td>\n",
              "    </tr>\n",
              "    <tr>\n",
              "      <th>4</th>\n",
              "      <td>2013</td>\n",
              "      <td>Kali Cideng</td>\n",
              "      <td>1681</td>\n",
              "      <td>177000</td>\n",
              "      <td>Usaha Perkotaan</td>\n",
              "    </tr>\n",
              "    <tr>\n",
              "      <th>5</th>\n",
              "      <td>2013</td>\n",
              "      <td>Kalibaru Timur</td>\n",
              "      <td>1920</td>\n",
              "      <td>182300</td>\n",
              "      <td>Usaha Perkotaan</td>\n",
              "    </tr>\n",
              "    <tr>\n",
              "      <th>6</th>\n",
              "      <td>2013</td>\n",
              "      <td>Cipinang</td>\n",
              "      <td>2300</td>\n",
              "      <td>188000</td>\n",
              "      <td>Usaha Perkotaan</td>\n",
              "    </tr>\n",
              "    <tr>\n",
              "      <th>7</th>\n",
              "      <td>2013</td>\n",
              "      <td>Sunter</td>\n",
              "      <td>2640</td>\n",
              "      <td>190000</td>\n",
              "      <td>Usaha Perkotaan</td>\n",
              "    </tr>\n",
              "    <tr>\n",
              "      <th>8</th>\n",
              "      <td>2013</td>\n",
              "      <td>Cakung</td>\n",
              "      <td>3270</td>\n",
              "      <td>233600</td>\n",
              "      <td>Usaha Perkotaan</td>\n",
              "    </tr>\n",
              "    <tr>\n",
              "      <th>9</th>\n",
              "      <td>2013</td>\n",
              "      <td>Buaran</td>\n",
              "      <td>3400</td>\n",
              "      <td>238200</td>\n",
              "      <td>Usaha Perkotaan</td>\n",
              "    </tr>\n",
              "    <tr>\n",
              "      <th>10</th>\n",
              "      <td>2013</td>\n",
              "      <td>Kalibaru Barat</td>\n",
              "      <td>3800</td>\n",
              "      <td>240700</td>\n",
              "      <td>Air Baku Air Minum</td>\n",
              "    </tr>\n",
              "    <tr>\n",
              "      <th>11</th>\n",
              "      <td>2013</td>\n",
              "      <td>Cengkareng Drain</td>\n",
              "      <td>4300</td>\n",
              "      <td>251900</td>\n",
              "      <td>Usaha Perkotaan</td>\n",
              "    </tr>\n",
              "    <tr>\n",
              "      <th>12</th>\n",
              "      <td>2013</td>\n",
              "      <td>Jati Kramat</td>\n",
              "      <td>4320</td>\n",
              "      <td>292600</td>\n",
              "      <td>Usaha Perkotaan</td>\n",
              "    </tr>\n",
              "    <tr>\n",
              "      <th>13</th>\n",
              "      <td>2013</td>\n",
              "      <td>Cakung Drain</td>\n",
              "      <td>4900</td>\n",
              "      <td>380000</td>\n",
              "      <td>Usaha Perkotaan</td>\n",
              "    </tr>\n",
              "    <tr>\n",
              "      <th>14</th>\n",
              "      <td>2013</td>\n",
              "      <td>Ancol</td>\n",
              "      <td>5240</td>\n",
              "      <td>392600</td>\n",
              "      <td>Usaha Perkotaan</td>\n",
              "    </tr>\n",
              "    <tr>\n",
              "      <th>15</th>\n",
              "      <td>2013</td>\n",
              "      <td>Banjir Kanal Barat</td>\n",
              "      <td>5250</td>\n",
              "      <td>414000</td>\n",
              "      <td>Perikanan</td>\n",
              "    </tr>\n",
              "    <tr>\n",
              "      <th>16</th>\n",
              "      <td>2013</td>\n",
              "      <td>Banjir Kanal Timur</td>\n",
              "      <td>5430</td>\n",
              "      <td>433600</td>\n",
              "      <td>Perikanan</td>\n",
              "    </tr>\n",
              "    <tr>\n",
              "      <th>17</th>\n",
              "      <td>2012</td>\n",
              "      <td>Ciliwung</td>\n",
              "      <td>5600</td>\n",
              "      <td>438200</td>\n",
              "      <td>Usaha Perkotaan</td>\n",
              "    </tr>\n",
              "    <tr>\n",
              "      <th>18</th>\n",
              "      <td>2012</td>\n",
              "      <td>Krukut</td>\n",
              "      <td>5680</td>\n",
              "      <td>464950</td>\n",
              "      <td>Air Baku Air Minum</td>\n",
              "    </tr>\n",
              "    <tr>\n",
              "      <th>19</th>\n",
              "      <td>2012</td>\n",
              "      <td>Mookervart</td>\n",
              "      <td>5900</td>\n",
              "      <td>480000</td>\n",
              "      <td>Air Baku Air Minum</td>\n",
              "    </tr>\n",
              "    <tr>\n",
              "      <th>20</th>\n",
              "      <td>2012</td>\n",
              "      <td>Kali Angke</td>\n",
              "      <td>6540</td>\n",
              "      <td>514000</td>\n",
              "      <td>Usaha Perkotaan</td>\n",
              "    </tr>\n",
              "    <tr>\n",
              "      <th>21</th>\n",
              "      <td>2012</td>\n",
              "      <td>Kali Pesanggrahan</td>\n",
              "      <td>7300</td>\n",
              "      <td>534810</td>\n",
              "      <td>Perikanan</td>\n",
              "    </tr>\n",
              "    <tr>\n",
              "      <th>22</th>\n",
              "      <td>2012</td>\n",
              "      <td>Sungai Grogol</td>\n",
              "      <td>7600</td>\n",
              "      <td>554900</td>\n",
              "      <td>Perikanan</td>\n",
              "    </tr>\n",
              "    <tr>\n",
              "      <th>23</th>\n",
              "      <td>2012</td>\n",
              "      <td>Kali Cideng</td>\n",
              "      <td>7885</td>\n",
              "      <td>634810</td>\n",
              "      <td>Usaha Perkotaan</td>\n",
              "    </tr>\n",
              "    <tr>\n",
              "      <th>24</th>\n",
              "      <td>2012</td>\n",
              "      <td>Kalibaru Timur</td>\n",
              "      <td>8330</td>\n",
              "      <td>664950</td>\n",
              "      <td>Usaha Perkotaan</td>\n",
              "    </tr>\n",
              "  </tbody>\n",
              "</table>\n",
              "</div>\n",
              "      <button class=\"colab-df-convert\" onclick=\"convertToInteractive('df-5f79f31c-57f5-4bc4-828f-4d643f5f36cd')\"\n",
              "              title=\"Convert this dataframe to an interactive table.\"\n",
              "              style=\"display:none;\">\n",
              "        \n",
              "  <svg xmlns=\"http://www.w3.org/2000/svg\" height=\"24px\"viewBox=\"0 0 24 24\"\n",
              "       width=\"24px\">\n",
              "    <path d=\"M0 0h24v24H0V0z\" fill=\"none\"/>\n",
              "    <path d=\"M18.56 5.44l.94 2.06.94-2.06 2.06-.94-2.06-.94-.94-2.06-.94 2.06-2.06.94zm-11 1L8.5 8.5l.94-2.06 2.06-.94-2.06-.94L8.5 2.5l-.94 2.06-2.06.94zm10 10l.94 2.06.94-2.06 2.06-.94-2.06-.94-.94-2.06-.94 2.06-2.06.94z\"/><path d=\"M17.41 7.96l-1.37-1.37c-.4-.4-.92-.59-1.43-.59-.52 0-1.04.2-1.43.59L10.3 9.45l-7.72 7.72c-.78.78-.78 2.05 0 2.83L4 21.41c.39.39.9.59 1.41.59.51 0 1.02-.2 1.41-.59l7.78-7.78 2.81-2.81c.8-.78.8-2.07 0-2.86zM5.41 20L4 18.59l7.72-7.72 1.47 1.35L5.41 20z\"/>\n",
              "  </svg>\n",
              "      </button>\n",
              "      \n",
              "  <style>\n",
              "    .colab-df-container {\n",
              "      display:flex;\n",
              "      flex-wrap:wrap;\n",
              "      gap: 12px;\n",
              "    }\n",
              "\n",
              "    .colab-df-convert {\n",
              "      background-color: #E8F0FE;\n",
              "      border: none;\n",
              "      border-radius: 50%;\n",
              "      cursor: pointer;\n",
              "      display: none;\n",
              "      fill: #1967D2;\n",
              "      height: 32px;\n",
              "      padding: 0 0 0 0;\n",
              "      width: 32px;\n",
              "    }\n",
              "\n",
              "    .colab-df-convert:hover {\n",
              "      background-color: #E2EBFA;\n",
              "      box-shadow: 0px 1px 2px rgba(60, 64, 67, 0.3), 0px 1px 3px 1px rgba(60, 64, 67, 0.15);\n",
              "      fill: #174EA6;\n",
              "    }\n",
              "\n",
              "    [theme=dark] .colab-df-convert {\n",
              "      background-color: #3B4455;\n",
              "      fill: #D2E3FC;\n",
              "    }\n",
              "\n",
              "    [theme=dark] .colab-df-convert:hover {\n",
              "      background-color: #434B5C;\n",
              "      box-shadow: 0px 1px 3px 1px rgba(0, 0, 0, 0.15);\n",
              "      filter: drop-shadow(0px 1px 2px rgba(0, 0, 0, 0.3));\n",
              "      fill: #FFFFFF;\n",
              "    }\n",
              "  </style>\n",
              "\n",
              "      <script>\n",
              "        const buttonEl =\n",
              "          document.querySelector('#df-5f79f31c-57f5-4bc4-828f-4d643f5f36cd button.colab-df-convert');\n",
              "        buttonEl.style.display =\n",
              "          google.colab.kernel.accessAllowed ? 'block' : 'none';\n",
              "\n",
              "        async function convertToInteractive(key) {\n",
              "          const element = document.querySelector('#df-5f79f31c-57f5-4bc4-828f-4d643f5f36cd');\n",
              "          const dataTable =\n",
              "            await google.colab.kernel.invokeFunction('convertToInteractive',\n",
              "                                                     [key], {});\n",
              "          if (!dataTable) return;\n",
              "\n",
              "          const docLinkHtml = 'Like what you see? Visit the ' +\n",
              "            '<a target=\"_blank\" href=https://colab.research.google.com/notebooks/data_table.ipynb>data table notebook</a>'\n",
              "            + ' to learn more about interactive tables.';\n",
              "          element.innerHTML = '';\n",
              "          dataTable['output_type'] = 'display_data';\n",
              "          await google.colab.output.renderOutput(dataTable, element);\n",
              "          const docLink = document.createElement('div');\n",
              "          docLink.innerHTML = docLinkHtml;\n",
              "          element.appendChild(docLink);\n",
              "        }\n",
              "      </script>\n",
              "    </div>\n",
              "  </div>\n",
              "  "
            ]
          },
          "metadata": {},
          "execution_count": 3
        }
      ]
    },
    {
      "cell_type": "code",
      "source": [
        "import matplotlib.pyplot as plt #Visualisasi data\n",
        "\n",
        "df.plot(kind='scatter', x='panjang', y= 'luas') #untuk nama variable\n",
        "\n",
        "plt.title('indeks kesejahteraan warga')\n",
        "plt.xlabel('jumlah penduduk')\n",
        "plt.ylabel('indeks')\n",
        "plt.xlim(1000, 8330) \n",
        "plt.ylim(100000, 664950) \n",
        "plt.grid(True)\n",
        "plt.show()"
      ],
      "metadata": {
        "id": "VrIEFp7FZQyh",
        "colab": {
          "base_uri": "https://localhost:8080/",
          "height": 295
        },
        "outputId": "cc0db387-8056-4649-a60c-04c0ab5cb872"
      },
      "execution_count": 5,
      "outputs": [
        {
          "output_type": "display_data",
          "data": {
            "text/plain": [
              "<Figure size 432x288 with 1 Axes>"
            ],
            "image/png": "[encoded data removed]"
          },
          "metadata": {
            "needs_background": "light"
          }
        }
      ]
    },
    {
      "cell_type": "code",
      "source": [
        "import numpy as np\n",
        "x = np.array(df['panjang']) #Feature\n",
        "y = np.array(df['luas']) #Target\n",
        "#\n",
        "print(f'x : {x}') # Data x itu adalah variable indepent atau bebas\n",
        "print(f'y : {y}') # var y itu adalah variable terikat/indepent "
      ],
      "metadata": {
        "colab": {
          "base_uri": "https://localhost:8080/"
        },
        "id": "uY8k2Lpf4JqF",
        "outputId": "0f2d52cd-e2d6-481b-9582-8ad0b64352bd"
      },
      "execution_count": 6,
      "outputs": [
        {
          "output_type": "stream",
          "name": "stdout",
          "text": [
            "x : [1281 1320 1370 1485 1681 1920 2300 2640 3270 3400 3800 4300 4320 4900\n",
            " 5240 5250 5430 5600 5680 5900 6540 7300 7600 7885 8330]\n",
            "y : [148900 158000 165200 172500 177000 182300 188000 190000 233600 238200\n",
            " 240700 251900 292600 380000 392600 414000 433600 438200 464950 480000\n",
            " 514000 534810 554900 634810 664950]\n"
          ]
        }
      ]
    },
    {
      "cell_type": "code",
      "source": [
        "x = x.reshape(-1,1) #Reshaping atau slice data\n",
        "x.shape"
      ],
      "metadata": {
        "colab": {
          "base_uri": "https://localhost:8080/"
        },
        "id": "WDF2XcbL4QAk",
        "outputId": "b97316cb-6ead-4c4b-c85b-f6fad77d17b2"
      },
      "execution_count": 7,
      "outputs": [
        {
          "output_type": "execute_result",
          "data": {
            "text/plain": [
              "(25, 1)"
            ]
          },
          "metadata": {},
          "execution_count": 7
        }
      ]
    },
    {
      "cell_type": "code",
      "source": [
        "x"
      ],
      "metadata": {
        "colab": {
          "base_uri": "https://localhost:8080/"
        },
        "id": "sxa47OJ14TQs",
        "outputId": "44454c98-731d-49fa-83ee-f8258e86b252"
      },
      "execution_count": 8,
      "outputs": [
        {
          "output_type": "execute_result",
          "data": {
            "text/plain": [
              "array([[1281],\n",
              "       [1320],\n",
              "       [1370],\n",
              "       [1485],\n",
              "       [1681],\n",
              "       [1920],\n",
              "       [2300],\n",
              "       [2640],\n",
              "       [3270],\n",
              "       [3400],\n",
              "       [3800],\n",
              "       [4300],\n",
              "       [4320],\n",
              "       [4900],\n",
              "       [5240],\n",
              "       [5250],\n",
              "       [5430],\n",
              "       [5600],\n",
              "       [5680],\n",
              "       [5900],\n",
              "       [6540],\n",
              "       [7300],\n",
              "       [7600],\n",
              "       [7885],\n",
              "       [8330]])"
            ]
          },
          "metadata": {},
          "execution_count": 8
        }
      ]
    },
    {
      "cell_type": "code",
      "source": [
        "#training model\n",
        "from sklearn.linear_model import LinearRegression #memanggil model regressi linear\n",
        "\n",
        "model = LinearRegression() #Variable model bisa di ganti\n",
        "model.fit(x,y) #X feature , y target\n",
        "\n",
        "#menjadi training model"
      ],
      "metadata": {
        "colab": {
          "base_uri": "https://localhost:8080/"
        },
        "id": "lExBF9VG4T19",
        "outputId": "cb4bb9ae-57dd-4fec-8b0f-618545795938"
      },
      "execution_count": 9,
      "outputs": [
        {
          "output_type": "execute_result",
          "data": {
            "text/plain": [
              "LinearRegression()"
            ]
          },
          "metadata": {},
          "execution_count": 9
        }
      ]
    },
    {
      "cell_type": "code",
      "source": [
        "x_vis = np.array([0,664950]).reshape(-1, 1) #pembuatan garis merah dari x\n",
        "y_vis = model.predict(x_vis) #Model machine learning"
      ],
      "metadata": {
        "id": "RqRg6ZEI4WFs"
      },
      "execution_count": 10,
      "outputs": []
    },
    {
      "cell_type": "code",
      "source": [
        "plt.scatter(x, y)\n",
        "plt.plot(x_vis, y_vis, '-r')\n",
        "plt.title('indeks kesejahteraan warga')\n",
        "plt.xlabel('jumlah penduduk')\n",
        "plt.ylabel('indeks')\n",
        "plt.xlim(1000, 8330) \n",
        "plt.ylim(100000, 664950)  \n",
        "plt.grid(True)\n",
        "plt.show()"
      ],
      "metadata": {
        "colab": {
          "base_uri": "https://localhost:8080/",
          "height": 295
        },
        "id": "JUCs41tG4Yvc",
        "outputId": "06cdd9ce-810a-4c01-c82a-fad3e5378746"
      },
      "execution_count": 11,
      "outputs": [
        {
          "output_type": "display_data",
          "data": {
            "text/plain": [
              "<Figure size 432x288 with 1 Axes>"
            ],
            "image/png": "[encoded data removed]"
          },
          "metadata": {
            "needs_background": "light"
          }
        }
      ]
    },
    {
      "cell_type": "code",
      "source": [
        "print(f'intercept : {model.intercept_}')\n",
        "print(f'slope : {model.coef_}')"
      ],
      "metadata": {
        "colab": {
          "base_uri": "https://localhost:8080/"
        },
        "id": "er-zY5-D4iv1",
        "outputId": "26d4267d-63d5-4bda-acc7-4469b5bb59db"
      },
      "execution_count": 12,
      "outputs": [
        {
          "output_type": "stream",
          "name": "stdout",
          "text": [
            "intercept : 31167.113825737033\n",
            "slope : [71.42173359]\n"
          ]
        }
      ]
    },
    {
      "cell_type": "code",
      "source": [
        "omzet = np.array([500000 , 400000 , 200000 , 300000 , 410000 ]).reshape(-1, 1)\n",
        "omzet "
      ],
      "metadata": {
        "colab": {
          "base_uri": "https://localhost:8080/"
        },
        "id": "zZwBNt_MtIT7",
        "outputId": "ed9545e5-322c-4bb2-9718-10998775f767"
      },
      "execution_count": 17,
      "outputs": [
        {
          "output_type": "execute_result",
          "data": {
            "text/plain": [
              "array([[500000],\n",
              "       [400000],\n",
              "       [200000],\n",
              "       [300000],\n",
              "       [410000]])"
            ]
          },
          "metadata": {},
          "execution_count": 17
        }
      ]
    },
    {
      "cell_type": "code",
      "source": [
        "prediksi_indeks = model.predict(omzet)\n",
        "prediksi_indeks"
      ],
      "metadata": {
        "colab": {
          "base_uri": "https://localhost:8080/"
        },
        "id": "4jCQxPLOtJVA",
        "outputId": "ac138ac2-232b-45ad-b887-ac12568eeafe"
      },
      "execution_count": 18,
      "outputs": [
        {
          "output_type": "execute_result",
          "data": {
            "text/plain": [
              "array([35742033.91026398, 28599860.55097633, 14315513.83240103,\n",
              "       21457687.19168868, 29314077.88690509])"
            ]
          },
          "metadata": {},
          "execution_count": 18
        }
      ]
    },
    {
      "cell_type": "code",
      "source": [
        "for penduduk, index in zip(omzet, prediksi_indeks):\n",
        "  print(f'luas : {penduduk} prediksi indeks : {index}')\n"
      ],
      "metadata": {
        "colab": {
          "base_uri": "https://localhost:8080/"
        },
        "id": "ktrCwS6iyUiG",
        "outputId": "3530d5df-1bf6-4f24-941b-cf3cc9a975e3"
      },
      "execution_count": 20,
      "outputs": [
        {
          "output_type": "stream",
          "name": "stdout",
          "text": [
            "luas : [500000] prediksi indeks : 35742033.91026398\n",
            "luas : [400000] prediksi indeks : 28599860.55097633\n",
            "luas : [200000] prediksi indeks : 14315513.832401032\n",
            "luas : [300000] prediksi indeks : 21457687.191688683\n",
            "luas : [410000] prediksi indeks : 29314077.886905093\n"
          ]
        }
      ]
    },
    {
      "cell_type": "code",
      "source": [
        "print(\"total jumlah E\")\n",
        "df['panjang'].sum()"
      ],
      "metadata": {
        "colab": {
          "base_uri": "https://localhost:8080/"
        },
        "id": "8cjJwpq-0ljm",
        "outputId": "888d1c3b-cf30-473c-a099-199e74a9ce58"
      },
      "execution_count": 25,
      "outputs": [
        {
          "output_type": "stream",
          "name": "stdout",
          "text": [
            "total jumlah E\n"
          ]
        },
        {
          "output_type": "execute_result",
          "data": {
            "text/plain": [
              "108742"
            ]
          },
          "metadata": {},
          "execution_count": 25
        }
      ]
    },
    {
      "cell_type": "code",
      "source": [
        "print(\"total jumlah E\")\n",
        "df['luas'].sum()"
      ],
      "metadata": {
        "colab": {
          "base_uri": "https://localhost:8080/"
        },
        "id": "ATl5v-VF0psz",
        "outputId": "c9f5b024-19ef-4280-e3ad-e45d14d2f46b"
      },
      "execution_count": 26,
      "outputs": [
        {
          "output_type": "stream",
          "name": "stdout",
          "text": [
            "total jumlah E\n"
          ]
        },
        {
          "output_type": "execute_result",
          "data": {
            "text/plain": [
              "8545720"
            ]
          },
          "metadata": {},
          "execution_count": 26
        }
      ]
    },
    {
      "cell_type": "code",
      "source": [
        "print()\n",
        "fig = plt.figure()\n",
        "ax = fig.add_axes([0, 0, 1, 1,])\n",
        "jurusan = ['panjang','luas']\n",
        "siswa = [108742,854572]\n",
        "c = ['blue','cyan','black']\n",
        "plt.title(\"Jumlah Jumlah Kepala Keluarga\")\n",
        "plt.bar(jurusan, siswa, color = c)\n",
        "plt.show()\n",
        "print()"
      ],
      "metadata": {
        "colab": {
          "base_uri": "https://localhost:8080/",
          "height": 387
        },
        "id": "PLtwmtkPypUv",
        "outputId": "575574b2-94da-42c0-8204-bbbdd661ebfc"
      },
      "execution_count": 28,
      "outputs": [
        {
          "output_type": "stream",
          "name": "stdout",
          "text": [
            "\n"
          ]
        },
        {
          "output_type": "display_data",
          "data": {
            "text/plain": [
              "<Figure size 432x288 with 1 Axes>"
            ],
            "image/png": "[encoded data removed]"
          },
          "metadata": {
            "needs_background": "light"
          }
        },
        {
          "output_type": "stream",
          "name": "stdout",
          "text": [
            "\n"
          ]
        }
      ]
    },
    {
      "cell_type": "code",
      "source": [
        "print()\n",
        "fig = plt.figure()\n",
        "ax = fig.add_axes([0,0,1,1])\n",
        "ax.axis('equal')\n",
        "jurusan = df['panjang']\n",
        "siswa = df['luas']\n",
        "ax.pie(siswa,labels=jurusan,autopct='%1.2f%%')\n",
        "plt.title(\"jumlah pesentaseu pichar\")\n",
        "plt.show()\n",
        "print()\n"
      ],
      "metadata": {
        "colab": {
          "base_uri": "https://localhost:8080/",
          "height": 370
        },
        "id": "tX1-THz-yr69",
        "outputId": "f04b7420-e2b1-47f5-b87c-806ac9b1d858"
      },
      "execution_count": 30,
      "outputs": [
        {
          "output_type": "stream",
          "name": "stdout",
          "text": [
            "\n"
          ]
        },
        {
          "output_type": "display_data",
          "data": {
            "text/plain": [
              "<Figure size 432x288 with 1 Axes>"
            ],
            "image/png": "[encoded data removed]"
          },
          "metadata": {}
        },
        {
          "output_type": "stream",
          "name": "stdout",
          "text": [
            "\n"
          ]
        }
      ]
    }
  ]
}