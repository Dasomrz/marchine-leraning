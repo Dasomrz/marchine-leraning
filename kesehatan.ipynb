{
  "nbformat": 4,
  "nbformat_minor": 0,
  "metadata": {
    "colab": {
      "provenance": []
    },
    "kernelspec": {
      "name": "python3",
      "display_name": "Python 3"
    },
    "language_info": {
      "name": "python"
    }
  },
  "cells": [
    {
      "cell_type": "code",
      "execution_count": 2,
      "metadata": {
        "id": "qhi6ZjXficIe",
        "colab": {
          "base_uri": "https://localhost:8080/"
        },
        "outputId": "e8b6194c-cb44-427e-a501-33af9490d2ce"
      },
      "outputs": [
        {
          "output_type": "stream",
          "name": "stdout",
          "text": [
            "Mounted at /content/drive\n"
          ]
        }
      ],
      "source": [
        "from google.colab import drive \n",
        "drive.mount('/content/drive')"
      ]
    },
    {
      "cell_type": "code",
      "source": [
        "import pandas as pd \n",
        "path = '/content/drive/MyDrive/CSV/lingkungansumberdaya - Sheet1.csv' \n",
        "df = pd.read_csv(path) \n",
        "\n",
        "df.describe() "
      ],
      "metadata": {
        "colab": {
          "base_uri": "https://localhost:8080/",
          "height": 300
        },
        "id": "j3X1zrAoom9f",
        "outputId": "883c7ec8-e65d-4791-b63a-d2c5a412ae31"
      },
      "execution_count": 3,
      "outputs": [
        {
          "output_type": "execute_result",
          "data": {
            "text/plain": [
              "             tahun  jumlah_bayi_lahir       jumlah\n",
              "count    25.000000          25.000000    25.000000\n",
              "mean   2018.560000       31222.240000   475.480000\n",
              "std       0.583095       22064.197346   516.038122\n",
              "min    2018.000000        3198.000000    39.000000\n",
              "25%    2018.000000       12238.000000   174.000000\n",
              "50%    2019.000000       32442.000000   260.000000\n",
              "75%    2019.000000       41044.000000   508.000000\n",
              "max    2020.000000       81558.000000  1826.000000"
            ],
            "text/html": [
              "\n",
              "  <div id=\"df-6c04a401-dce2-4b07-97fe-a7acd66ac352\">\n",
              "    <div class=\"colab-df-container\">\n",
              "      <div>\n",
              "<style scoped>\n",
              "    .dataframe tbody tr th:only-of-type {\n",
              "        vertical-align: middle;\n",
              "    }\n",
              "\n",
              "    .dataframe tbody tr th {\n",
              "        vertical-align: top;\n",
              "    }\n",
              "\n",
              "    .dataframe thead th {\n",
              "        text-align: right;\n",
              "    }\n",
              "</style>\n",
              "<table border=\"1\" class=\"dataframe\">\n",
              "  <thead>\n",
              "    <tr style=\"text-align: right;\">\n",
              "      <th></th>\n",
              "      <th>tahun</th>\n",
              "      <th>jumlah_bayi_lahir</th>\n",
              "      <th>jumlah</th>\n",
              "    </tr>\n",
              "  </thead>\n",
              "  <tbody>\n",
              "    <tr>\n",
              "      <th>count</th>\n",
              "      <td>25.000000</td>\n",
              "      <td>25.000000</td>\n",
              "      <td>25.000000</td>\n",
              "    </tr>\n",
              "    <tr>\n",
              "      <th>mean</th>\n",
              "      <td>2018.560000</td>\n",
              "      <td>31222.240000</td>\n",
              "      <td>475.480000</td>\n",
              "    </tr>\n",
              "    <tr>\n",
              "      <th>std</th>\n",
              "      <td>0.583095</td>\n",
              "      <td>22064.197346</td>\n",
              "      <td>516.038122</td>\n",
              "    </tr>\n",
              "    <tr>\n",
              "      <th>min</th>\n",
              "      <td>2018.000000</td>\n",
              "      <td>3198.000000</td>\n",
              "      <td>39.000000</td>\n",
              "    </tr>\n",
              "    <tr>\n",
              "      <th>25%</th>\n",
              "      <td>2018.000000</td>\n",
              "      <td>12238.000000</td>\n",
              "      <td>174.000000</td>\n",
              "    </tr>\n",
              "    <tr>\n",
              "      <th>50%</th>\n",
              "      <td>2019.000000</td>\n",
              "      <td>32442.000000</td>\n",
              "      <td>260.000000</td>\n",
              "    </tr>\n",
              "    <tr>\n",
              "      <th>75%</th>\n",
              "      <td>2019.000000</td>\n",
              "      <td>41044.000000</td>\n",
              "      <td>508.000000</td>\n",
              "    </tr>\n",
              "    <tr>\n",
              "      <th>max</th>\n",
              "      <td>2020.000000</td>\n",
              "      <td>81558.000000</td>\n",
              "      <td>1826.000000</td>\n",
              "    </tr>\n",
              "  </tbody>\n",
              "</table>\n",
              "</div>\n",
              "      <button class=\"colab-df-convert\" onclick=\"convertToInteractive('df-6c04a401-dce2-4b07-97fe-a7acd66ac352')\"\n",
              "              title=\"Convert this dataframe to an interactive table.\"\n",
              "              style=\"display:none;\">\n",
              "        \n",
              "  <svg xmlns=\"http://www.w3.org/2000/svg\" height=\"24px\"viewBox=\"0 0 24 24\"\n",
              "       width=\"24px\">\n",
              "    <path d=\"M0 0h24v24H0V0z\" fill=\"none\"/>\n",
              "    <path d=\"M18.56 5.44l.94 2.06.94-2.06 2.06-.94-2.06-.94-.94-2.06-.94 2.06-2.06.94zm-11 1L8.5 8.5l.94-2.06 2.06-.94-2.06-.94L8.5 2.5l-.94 2.06-2.06.94zm10 10l.94 2.06.94-2.06 2.06-.94-2.06-.94-.94-2.06-.94 2.06-2.06.94z\"/><path d=\"M17.41 7.96l-1.37-1.37c-.4-.4-.92-.59-1.43-.59-.52 0-1.04.2-1.43.59L10.3 9.45l-7.72 7.72c-.78.78-.78 2.05 0 2.83L4 21.41c.39.39.9.59 1.41.59.51 0 1.02-.2 1.41-.59l7.78-7.78 2.81-2.81c.8-.78.8-2.07 0-2.86zM5.41 20L4 18.59l7.72-7.72 1.47 1.35L5.41 20z\"/>\n",
              "  </svg>\n",
              "      </button>\n",
              "      \n",
              "  <style>\n",
              "    .colab-df-container {\n",
              "      display:flex;\n",
              "      flex-wrap:wrap;\n",
              "      gap: 12px;\n",
              "    }\n",
              "\n",
              "    .colab-df-convert {\n",
              "      background-color: #E8F0FE;\n",
              "      border: none;\n",
              "      border-radius: 50%;\n",
              "      cursor: pointer;\n",
              "      display: none;\n",
              "      fill: #1967D2;\n",
              "      height: 32px;\n",
              "      padding: 0 0 0 0;\n",
              "      width: 32px;\n",
              "    }\n",
              "\n",
              "    .colab-df-convert:hover {\n",
              "      background-color: #E2EBFA;\n",
              "      box-shadow: 0px 1px 2px rgba(60, 64, 67, 0.3), 0px 1px 3px 1px rgba(60, 64, 67, 0.15);\n",
              "      fill: #174EA6;\n",
              "    }\n",
              "\n",
              "    [theme=dark] .colab-df-convert {\n",
              "      background-color: #3B4455;\n",
              "      fill: #D2E3FC;\n",
              "    }\n",
              "\n",
              "    [theme=dark] .colab-df-convert:hover {\n",
              "      background-color: #434B5C;\n",
              "      box-shadow: 0px 1px 3px 1px rgba(0, 0, 0, 0.15);\n",
              "      filter: drop-shadow(0px 1px 2px rgba(0, 0, 0, 0.3));\n",
              "      fill: #FFFFFF;\n",
              "    }\n",
              "  </style>\n",
              "\n",
              "      <script>\n",
              "        const buttonEl =\n",
              "          document.querySelector('#df-6c04a401-dce2-4b07-97fe-a7acd66ac352 button.colab-df-convert');\n",
              "        buttonEl.style.display =\n",
              "          google.colab.kernel.accessAllowed ? 'block' : 'none';\n",
              "\n",
              "        async function convertToInteractive(key) {\n",
              "          const element = document.querySelector('#df-6c04a401-dce2-4b07-97fe-a7acd66ac352');\n",
              "          const dataTable =\n",
              "            await google.colab.kernel.invokeFunction('convertToInteractive',\n",
              "                                                     [key], {});\n",
              "          if (!dataTable) return;\n",
              "\n",
              "          const docLinkHtml = 'Like what you see? Visit the ' +\n",
              "            '<a target=\"_blank\" href=https://colab.research.google.com/notebooks/data_table.ipynb>data table notebook</a>'\n",
              "            + ' to learn more about interactive tables.';\n",
              "          element.innerHTML = '';\n",
              "          dataTable['output_type'] = 'display_data';\n",
              "          await google.colab.output.renderOutput(dataTable, element);\n",
              "          const docLink = document.createElement('div');\n",
              "          docLink.innerHTML = docLinkHtml;\n",
              "          element.appendChild(docLink);\n",
              "        }\n",
              "      </script>\n",
              "    </div>\n",
              "  </div>\n",
              "  "
            ]
          },
          "metadata": {},
          "execution_count": 3
        }
      ]
    },
    {
      "cell_type": "code",
      "source": [
        "df"
      ],
      "metadata": {
        "colab": {
          "base_uri": "https://localhost:8080/",
          "height": 833
        },
        "id": "7L7wdzU-vxGT",
        "outputId": "fb02dac0-95e8-40ad-a5e6-5156fed38d4f"
      },
      "execution_count": 4,
      "outputs": [
        {
          "output_type": "execute_result",
          "data": {
            "text/plain": [
              "    tahun           wilayah  jumlah_bayi_lahir             kondisi_bayi  \\\n",
              "0    2020     Jakarta Utara               3198       balita_gizi_kurang   \n",
              "1    2018  Kepulauan Seribu               3749  berat_bayi_lahir_rendah   \n",
              "2    2018   Jakarta Selatan               3749  berat_bayi_lahir_rendah   \n",
              "3    2018     Jakarta Timur               4838  berat_bayi_lahir_rendah   \n",
              "4    2018     Jakarta Pusat               4838  berat_bayi_lahir_rendah   \n",
              "5    2018     Jakarta Barat              12238  berat_bayi_lahir_rendah   \n",
              "6    2018     Jakarta Utara              12238  berat_bayi_lahir_rendah   \n",
              "7    2018  Kepulauan Seribu              12578       balita_gizi_kurang   \n",
              "8    2018   Jakarta Selatan              12578       balita_gizi_kurang   \n",
              "9    2018     Jakarta Timur              30968       balita_gizi_kurang   \n",
              "10   2018     Jakarta Pusat              30968       balita_gizi_kurang   \n",
              "11   2018     Jakarta Barat              32442       balita_gizi_kurang   \n",
              "12   2018     Jakarta Utara              32442       balita_gizi_kurang   \n",
              "13   2019  Kepulauan Seribu              35693  berat_bayi_lahir_rendah   \n",
              "14   2019   Jakarta Selatan              35693  berat_bayi_lahir_rendah   \n",
              "15   2019     Jakarta Timur              36184  berat_bayi_lahir_rendah   \n",
              "16   2019     Jakarta Pusat              36184  berat_bayi_lahir_rendah   \n",
              "17   2019     Jakarta Barat              41044  berat_bayi_lahir_rendah   \n",
              "18   2019     Jakarta Utara              41044  berat_bayi_lahir_rendah   \n",
              "19   2019  Kepulauan Seribu              47362       balita_gizi_kurang   \n",
              "20   2019   Jakarta Selatan              47362       balita_gizi_kurang   \n",
              "21   2019     Jakarta Timur              50025       balita_gizi_kurang   \n",
              "22   2019     Jakarta Pusat              50025       balita_gizi_kurang   \n",
              "23   2019     Jakarta Barat              81558       balita_gizi_kurang   \n",
              "24   2019     Jakarta Utara              81558       balita_gizi_kurang   \n",
              "\n",
              "    jumlah  \n",
              "0       39  \n",
              "1       57  \n",
              "2       59  \n",
              "3      120  \n",
              "4      127  \n",
              "5      153  \n",
              "6      174  \n",
              "7      175  \n",
              "8      178  \n",
              "9      179  \n",
              "10     193  \n",
              "11     215  \n",
              "12     260  \n",
              "13     273  \n",
              "14     342  \n",
              "15     446  \n",
              "16     447  \n",
              "17     498  \n",
              "18     508  \n",
              "19     600  \n",
              "20     803  \n",
              "21     989  \n",
              "22    1403  \n",
              "23    1823  \n",
              "24    1826  "
            ],
            "text/html": [
              "\n",
              "  <div id=\"df-4de1684e-7d4e-448a-9498-18ca79a98ce5\">\n",
              "    <div class=\"colab-df-container\">\n",
              "      <div>\n",
              "<style scoped>\n",
              "    .dataframe tbody tr th:only-of-type {\n",
              "        vertical-align: middle;\n",
              "    }\n",
              "\n",
              "    .dataframe tbody tr th {\n",
              "        vertical-align: top;\n",
              "    }\n",
              "\n",
              "    .dataframe thead th {\n",
              "        text-align: right;\n",
              "    }\n",
              "</style>\n",
              "<table border=\"1\" class=\"dataframe\">\n",
              "  <thead>\n",
              "    <tr style=\"text-align: right;\">\n",
              "      <th></th>\n",
              "      <th>tahun</th>\n",
              "      <th>wilayah</th>\n",
              "      <th>jumlah_bayi_lahir</th>\n",
              "      <th>kondisi_bayi</th>\n",
              "      <th>jumlah</th>\n",
              "    </tr>\n",
              "  </thead>\n",
              "  <tbody>\n",
              "    <tr>\n",
              "      <th>0</th>\n",
              "      <td>2020</td>\n",
              "      <td>Jakarta Utara</td>\n",
              "      <td>3198</td>\n",
              "      <td>balita_gizi_kurang</td>\n",
              "      <td>39</td>\n",
              "    </tr>\n",
              "    <tr>\n",
              "      <th>1</th>\n",
              "      <td>2018</td>\n",
              "      <td>Kepulauan Seribu</td>\n",
              "      <td>3749</td>\n",
              "      <td>berat_bayi_lahir_rendah</td>\n",
              "      <td>57</td>\n",
              "    </tr>\n",
              "    <tr>\n",
              "      <th>2</th>\n",
              "      <td>2018</td>\n",
              "      <td>Jakarta Selatan</td>\n",
              "      <td>3749</td>\n",
              "      <td>berat_bayi_lahir_rendah</td>\n",
              "      <td>59</td>\n",
              "    </tr>\n",
              "    <tr>\n",
              "      <th>3</th>\n",
              "      <td>2018</td>\n",
              "      <td>Jakarta Timur</td>\n",
              "      <td>4838</td>\n",
              "      <td>berat_bayi_lahir_rendah</td>\n",
              "      <td>120</td>\n",
              "    </tr>\n",
              "    <tr>\n",
              "      <th>4</th>\n",
              "      <td>2018</td>\n",
              "      <td>Jakarta Pusat</td>\n",
              "      <td>4838</td>\n",
              "      <td>berat_bayi_lahir_rendah</td>\n",
              "      <td>127</td>\n",
              "    </tr>\n",
              "    <tr>\n",
              "      <th>5</th>\n",
              "      <td>2018</td>\n",
              "      <td>Jakarta Barat</td>\n",
              "      <td>12238</td>\n",
              "      <td>berat_bayi_lahir_rendah</td>\n",
              "      <td>153</td>\n",
              "    </tr>\n",
              "    <tr>\n",
              "      <th>6</th>\n",
              "      <td>2018</td>\n",
              "      <td>Jakarta Utara</td>\n",
              "      <td>12238</td>\n",
              "      <td>berat_bayi_lahir_rendah</td>\n",
              "      <td>174</td>\n",
              "    </tr>\n",
              "    <tr>\n",
              "      <th>7</th>\n",
              "      <td>2018</td>\n",
              "      <td>Kepulauan Seribu</td>\n",
              "      <td>12578</td>\n",
              "      <td>balita_gizi_kurang</td>\n",
              "      <td>175</td>\n",
              "    </tr>\n",
              "    <tr>\n",
              "      <th>8</th>\n",
              "      <td>2018</td>\n",
              "      <td>Jakarta Selatan</td>\n",
              "      <td>12578</td>\n",
              "      <td>balita_gizi_kurang</td>\n",
              "      <td>178</td>\n",
              "    </tr>\n",
              "    <tr>\n",
              "      <th>9</th>\n",
              "      <td>2018</td>\n",
              "      <td>Jakarta Timur</td>\n",
              "      <td>30968</td>\n",
              "      <td>balita_gizi_kurang</td>\n",
              "      <td>179</td>\n",
              "    </tr>\n",
              "    <tr>\n",
              "      <th>10</th>\n",
              "      <td>2018</td>\n",
              "      <td>Jakarta Pusat</td>\n",
              "      <td>30968</td>\n",
              "      <td>balita_gizi_kurang</td>\n",
              "      <td>193</td>\n",
              "    </tr>\n",
              "    <tr>\n",
              "      <th>11</th>\n",
              "      <td>2018</td>\n",
              "      <td>Jakarta Barat</td>\n",
              "      <td>32442</td>\n",
              "      <td>balita_gizi_kurang</td>\n",
              "      <td>215</td>\n",
              "    </tr>\n",
              "    <tr>\n",
              "      <th>12</th>\n",
              "      <td>2018</td>\n",
              "      <td>Jakarta Utara</td>\n",
              "      <td>32442</td>\n",
              "      <td>balita_gizi_kurang</td>\n",
              "      <td>260</td>\n",
              "    </tr>\n",
              "    <tr>\n",
              "      <th>13</th>\n",
              "      <td>2019</td>\n",
              "      <td>Kepulauan Seribu</td>\n",
              "      <td>35693</td>\n",
              "      <td>berat_bayi_lahir_rendah</td>\n",
              "      <td>273</td>\n",
              "    </tr>\n",
              "    <tr>\n",
              "      <th>14</th>\n",
              "      <td>2019</td>\n",
              "      <td>Jakarta Selatan</td>\n",
              "      <td>35693</td>\n",
              "      <td>berat_bayi_lahir_rendah</td>\n",
              "      <td>342</td>\n",
              "    </tr>\n",
              "    <tr>\n",
              "      <th>15</th>\n",
              "      <td>2019</td>\n",
              "      <td>Jakarta Timur</td>\n",
              "      <td>36184</td>\n",
              "      <td>berat_bayi_lahir_rendah</td>\n",
              "      <td>446</td>\n",
              "    </tr>\n",
              "    <tr>\n",
              "      <th>16</th>\n",
              "      <td>2019</td>\n",
              "      <td>Jakarta Pusat</td>\n",
              "      <td>36184</td>\n",
              "      <td>berat_bayi_lahir_rendah</td>\n",
              "      <td>447</td>\n",
              "    </tr>\n",
              "    <tr>\n",
              "      <th>17</th>\n",
              "      <td>2019</td>\n",
              "      <td>Jakarta Barat</td>\n",
              "      <td>41044</td>\n",
              "      <td>berat_bayi_lahir_rendah</td>\n",
              "      <td>498</td>\n",
              "    </tr>\n",
              "    <tr>\n",
              "      <th>18</th>\n",
              "      <td>2019</td>\n",
              "      <td>Jakarta Utara</td>\n",
              "      <td>41044</td>\n",
              "      <td>berat_bayi_lahir_rendah</td>\n",
              "      <td>508</td>\n",
              "    </tr>\n",
              "    <tr>\n",
              "      <th>19</th>\n",
              "      <td>2019</td>\n",
              "      <td>Kepulauan Seribu</td>\n",
              "      <td>47362</td>\n",
              "      <td>balita_gizi_kurang</td>\n",
              "      <td>600</td>\n",
              "    </tr>\n",
              "    <tr>\n",
              "      <th>20</th>\n",
              "      <td>2019</td>\n",
              "      <td>Jakarta Selatan</td>\n",
              "      <td>47362</td>\n",
              "      <td>balita_gizi_kurang</td>\n",
              "      <td>803</td>\n",
              "    </tr>\n",
              "    <tr>\n",
              "      <th>21</th>\n",
              "      <td>2019</td>\n",
              "      <td>Jakarta Timur</td>\n",
              "      <td>50025</td>\n",
              "      <td>balita_gizi_kurang</td>\n",
              "      <td>989</td>\n",
              "    </tr>\n",
              "    <tr>\n",
              "      <th>22</th>\n",
              "      <td>2019</td>\n",
              "      <td>Jakarta Pusat</td>\n",
              "      <td>50025</td>\n",
              "      <td>balita_gizi_kurang</td>\n",
              "      <td>1403</td>\n",
              "    </tr>\n",
              "    <tr>\n",
              "      <th>23</th>\n",
              "      <td>2019</td>\n",
              "      <td>Jakarta Barat</td>\n",
              "      <td>81558</td>\n",
              "      <td>balita_gizi_kurang</td>\n",
              "      <td>1823</td>\n",
              "    </tr>\n",
              "    <tr>\n",
              "      <th>24</th>\n",
              "      <td>2019</td>\n",
              "      <td>Jakarta Utara</td>\n",
              "      <td>81558</td>\n",
              "      <td>balita_gizi_kurang</td>\n",
              "      <td>1826</td>\n",
              "    </tr>\n",
              "  </tbody>\n",
              "</table>\n",
              "</div>\n",
              "      <button class=\"colab-df-convert\" onclick=\"convertToInteractive('df-4de1684e-7d4e-448a-9498-18ca79a98ce5')\"\n",
              "              title=\"Convert this dataframe to an interactive table.\"\n",
              "              style=\"display:none;\">\n",
              "        \n",
              "  <svg xmlns=\"http://www.w3.org/2000/svg\" height=\"24px\"viewBox=\"0 0 24 24\"\n",
              "       width=\"24px\">\n",
              "    <path d=\"M0 0h24v24H0V0z\" fill=\"none\"/>\n",
              "    <path d=\"M18.56 5.44l.94 2.06.94-2.06 2.06-.94-2.06-.94-.94-2.06-.94 2.06-2.06.94zm-11 1L8.5 8.5l.94-2.06 2.06-.94-2.06-.94L8.5 2.5l-.94 2.06-2.06.94zm10 10l.94 2.06.94-2.06 2.06-.94-2.06-.94-.94-2.06-.94 2.06-2.06.94z\"/><path d=\"M17.41 7.96l-1.37-1.37c-.4-.4-.92-.59-1.43-.59-.52 0-1.04.2-1.43.59L10.3 9.45l-7.72 7.72c-.78.78-.78 2.05 0 2.83L4 21.41c.39.39.9.59 1.41.59.51 0 1.02-.2 1.41-.59l7.78-7.78 2.81-2.81c.8-.78.8-2.07 0-2.86zM5.41 20L4 18.59l7.72-7.72 1.47 1.35L5.41 20z\"/>\n",
              "  </svg>\n",
              "      </button>\n",
              "      \n",
              "  <style>\n",
              "    .colab-df-container {\n",
              "      display:flex;\n",
              "      flex-wrap:wrap;\n",
              "      gap: 12px;\n",
              "    }\n",
              "\n",
              "    .colab-df-convert {\n",
              "      background-color: #E8F0FE;\n",
              "      border: none;\n",
              "      border-radius: 50%;\n",
              "      cursor: pointer;\n",
              "      display: none;\n",
              "      fill: #1967D2;\n",
              "      height: 32px;\n",
              "      padding: 0 0 0 0;\n",
              "      width: 32px;\n",
              "    }\n",
              "\n",
              "    .colab-df-convert:hover {\n",
              "      background-color: #E2EBFA;\n",
              "      box-shadow: 0px 1px 2px rgba(60, 64, 67, 0.3), 0px 1px 3px 1px rgba(60, 64, 67, 0.15);\n",
              "      fill: #174EA6;\n",
              "    }\n",
              "\n",
              "    [theme=dark] .colab-df-convert {\n",
              "      background-color: #3B4455;\n",
              "      fill: #D2E3FC;\n",
              "    }\n",
              "\n",
              "    [theme=dark] .colab-df-convert:hover {\n",
              "      background-color: #434B5C;\n",
              "      box-shadow: 0px 1px 3px 1px rgba(0, 0, 0, 0.15);\n",
              "      filter: drop-shadow(0px 1px 2px rgba(0, 0, 0, 0.3));\n",
              "      fill: #FFFFFF;\n",
              "    }\n",
              "  </style>\n",
              "\n",
              "      <script>\n",
              "        const buttonEl =\n",
              "          document.querySelector('#df-4de1684e-7d4e-448a-9498-18ca79a98ce5 button.colab-df-convert');\n",
              "        buttonEl.style.display =\n",
              "          google.colab.kernel.accessAllowed ? 'block' : 'none';\n",
              "\n",
              "        async function convertToInteractive(key) {\n",
              "          const element = document.querySelector('#df-4de1684e-7d4e-448a-9498-18ca79a98ce5');\n",
              "          const dataTable =\n",
              "            await google.colab.kernel.invokeFunction('convertToInteractive',\n",
              "                                                     [key], {});\n",
              "          if (!dataTable) return;\n",
              "\n",
              "          const docLinkHtml = 'Like what you see? Visit the ' +\n",
              "            '<a target=\"_blank\" href=https://colab.research.google.com/notebooks/data_table.ipynb>data table notebook</a>'\n",
              "            + ' to learn more about interactive tables.';\n",
              "          element.innerHTML = '';\n",
              "          dataTable['output_type'] = 'display_data';\n",
              "          await google.colab.output.renderOutput(dataTable, element);\n",
              "          const docLink = document.createElement('div');\n",
              "          docLink.innerHTML = docLinkHtml;\n",
              "          element.appendChild(docLink);\n",
              "        }\n",
              "      </script>\n",
              "    </div>\n",
              "  </div>\n",
              "  "
            ]
          },
          "metadata": {},
          "execution_count": 4
        }
      ]
    },
    {
      "cell_type": "code",
      "source": [
        "import matplotlib.pyplot as plt #Visualisasi data\n",
        "\n",
        "df.plot(kind='scatter', x='jumlah_bayi_lahir', y= 'jumlah') #untuk nama variable\n",
        "\n",
        "plt.title('indeks kesejahteraan warga')\n",
        "plt.xlabel('jumlah penduduk')\n",
        "plt.ylabel('indeks')\n",
        "plt.xlim(0, 80000) \n",
        "plt.ylim(0, 1400) \n",
        "plt.grid(True)\n",
        "plt.show()"
      ],
      "metadata": {
        "colab": {
          "base_uri": "https://localhost:8080/",
          "height": 295
        },
        "id": "LGgqpI10vx3x",
        "outputId": "12f5e5d4-89cd-48c4-c655-895082a6a981"
      },
      "execution_count": 5,
      "outputs": [
        {
          "output_type": "display_data",
          "data": {
            "text/plain": [
              "<Figure size 432x288 with 1 Axes>"
            ],
            "image/png": "[encoded data removed]"
          },
          "metadata": {
            "needs_background": "light"
          }
        }
      ]
    },
    {
      "cell_type": "code",
      "source": [
        "import numpy as np\n",
        "x = np.array(df['jumlah_bayi_lahir']) #Feature\n",
        "y = np.array(df['jumlah']) #Target\n",
        "#\n",
        "print(f'x : {x}') # Data x itu adalah variable indepent atau bebas\n",
        "print(f'y : {y}') # var y itu adalah variable terikat/indepent "
      ],
      "metadata": {
        "colab": {
          "base_uri": "https://localhost:8080/"
        },
        "id": "PcSPsTBuwImd",
        "outputId": "cf90cae2-b3c6-4014-975d-2071a40e47a2"
      },
      "execution_count": 6,
      "outputs": [
        {
          "output_type": "stream",
          "name": "stdout",
          "text": [
            "x : [ 3198  3749  3749  4838  4838 12238 12238 12578 12578 30968 30968 32442\n",
            " 32442 35693 35693 36184 36184 41044 41044 47362 47362 50025 50025 81558\n",
            " 81558]\n",
            "y : [  39   57   59  120  127  153  174  175  178  179  193  215  260  273\n",
            "  342  446  447  498  508  600  803  989 1403 1823 1826]\n"
          ]
        }
      ]
    },
    {
      "cell_type": "code",
      "source": [
        "x = x.reshape(-1,1) #Reshaping atau slice data\n",
        "x.shape"
      ],
      "metadata": {
        "colab": {
          "base_uri": "https://localhost:8080/"
        },
        "id": "dJBsZITewM0J",
        "outputId": "5ff471c3-d6a7-4fbb-e001-75e0642665eb"
      },
      "execution_count": 7,
      "outputs": [
        {
          "output_type": "execute_result",
          "data": {
            "text/plain": [
              "(25, 1)"
            ]
          },
          "metadata": {},
          "execution_count": 7
        }
      ]
    },
    {
      "cell_type": "code",
      "source": [
        "x"
      ],
      "metadata": {
        "colab": {
          "base_uri": "https://localhost:8080/"
        },
        "id": "Rmbfb_I9wPyw",
        "outputId": "7a0fc682-432e-4a7b-94f1-6f1a69f8bfbb"
      },
      "execution_count": 7,
      "outputs": [
        {
          "output_type": "execute_result",
          "data": {
            "text/plain": [
              "array([[ 3198],\n",
              "       [ 3749],\n",
              "       [ 3749],\n",
              "       [ 4838],\n",
              "       [ 4838],\n",
              "       [12238],\n",
              "       [12238],\n",
              "       [12578],\n",
              "       [12578],\n",
              "       [30968],\n",
              "       [30968],\n",
              "       [32442],\n",
              "       [32442],\n",
              "       [35693],\n",
              "       [35693],\n",
              "       [36184],\n",
              "       [36184],\n",
              "       [41044],\n",
              "       [41044],\n",
              "       [47362],\n",
              "       [47362],\n",
              "       [50025],\n",
              "       [50025],\n",
              "       [81558],\n",
              "       [81558]])"
            ]
          },
          "metadata": {},
          "execution_count": 7
        }
      ]
    },
    {
      "cell_type": "code",
      "source": [
        "#training model\n",
        "from sklearn.linear_model import LinearRegression #memanggil model regressi linear\n",
        "\n",
        "model = LinearRegression() #Variable model bisa di ganti\n",
        "model.fit(x,y) #X feature , y target\n",
        "\n",
        "#menjadi training model"
      ],
      "metadata": {
        "colab": {
          "base_uri": "https://localhost:8080/"
        },
        "id": "beYEFJiRwQgL",
        "outputId": "2610a460-511b-41b9-b2b8-e23f3af76580"
      },
      "execution_count": 8,
      "outputs": [
        {
          "output_type": "execute_result",
          "data": {
            "text/plain": [
              "LinearRegression()"
            ]
          },
          "metadata": {},
          "execution_count": 8
        }
      ]
    },
    {
      "cell_type": "code",
      "source": [
        "x_vis = np.array([0,80000]).reshape(-1, 1) #pembuatan garis merah dari x\n",
        "y_vis = model.predict(x_vis) #Model machine learning"
      ],
      "metadata": {
        "id": "mn8KqnvewTpA"
      },
      "execution_count": 9,
      "outputs": []
    },
    {
      "cell_type": "code",
      "source": [
        "plt.scatter(x, y)\n",
        "plt.plot(x_vis, y_vis, '-r')\n",
        "plt.title('indeks kesejahteraan warga')\n",
        "plt.xlabel('jumlah penduduk')\n",
        "plt.ylabel('indeks')\n",
        "plt.xlim(0, 80000) \n",
        "plt.ylim(0, 1200) \n",
        "plt.grid(True)\n",
        "plt.show()"
      ],
      "metadata": {
        "colab": {
          "base_uri": "https://localhost:8080/",
          "height": 295
        },
        "id": "HN7ms5t8wWJ_",
        "outputId": "b685538c-a933-40c0-837c-3c3539975551"
      },
      "execution_count": 10,
      "outputs": [
        {
          "output_type": "display_data",
          "data": {
            "text/plain": [
              "<Figure size 432x288 with 1 Axes>"
            ],
            "image/png": "[encoded data removed]"
          },
          "metadata": {
            "needs_background": "light"
          }
        }
      ]
    },
    {
      "cell_type": "code",
      "source": [
        "print(f'intercept : {model.intercept_}')\n",
        "print(f'slope : {model.coef_}')"
      ],
      "metadata": {
        "colab": {
          "base_uri": "https://localhost:8080/"
        },
        "id": "qjgtFY1owY8v",
        "outputId": "63de56f5-65c7-4bba-e919-f8090587aef3"
      },
      "execution_count": null,
      "outputs": [
        {
          "output_type": "stream",
          "name": "stdout",
          "text": [
            "intercept : -179.9027467288911\n",
            "slope : [0.02099089]\n"
          ]
        }
      ]
    },
    {
      "cell_type": "code",
      "source": [
        "omzet = np.array([60000, 55000, 50000, 30000, 40000]).reshape(-1, 1)\n",
        "omzet "
      ],
      "metadata": {
        "colab": {
          "base_uri": "https://localhost:8080/"
        },
        "id": "F6rEL60EXwZd",
        "outputId": "878e9dcb-b39b-46c5-a193-b4f7f1a57929"
      },
      "execution_count": null,
      "outputs": [
        {
          "output_type": "execute_result",
          "data": {
            "text/plain": [
              "array([[60000],\n",
              "       [55000],\n",
              "       [50000],\n",
              "       [30000],\n",
              "       [40000]])"
            ]
          },
          "metadata": {},
          "execution_count": 15
        }
      ]
    },
    {
      "cell_type": "code",
      "source": [
        "prediksi_indeks = model.predict(omzet)\n",
        "prediksi_indeks"
      ],
      "metadata": {
        "colab": {
          "base_uri": "https://localhost:8080/"
        },
        "id": "GZDM63fsXzH9",
        "outputId": "61188b19-5f55-4d00-e198-6dc30ec0fba8"
      },
      "execution_count": null,
      "outputs": [
        {
          "output_type": "execute_result",
          "data": {
            "text/plain": [
              "array([1079.55092488,  974.59645224,  869.64197961,  449.82408907,\n",
              "        659.73303434])"
            ]
          },
          "metadata": {},
          "execution_count": 17
        }
      ]
    },
    {
      "cell_type": "code",
      "source": [
        "for penduduk, index in zip(omzet, prediksi_indeks):\n",
        "  print(f'timbangan bayi : {penduduk} prediksi indeks : {index}')\n"
      ],
      "metadata": {
        "colab": {
          "base_uri": "https://localhost:8080/"
        },
        "id": "OHKmwpGwYZvx",
        "outputId": "da2a4743-17b8-4904-fe80-6a052cbe8285"
      },
      "execution_count": null,
      "outputs": [
        {
          "output_type": "stream",
          "name": "stdout",
          "text": [
            "timbangan bayi : [60000] prediksi indeks : 1079.55092487614\n",
            "timbangan bayi : [55000] prediksi indeks : 974.5964522423874\n",
            "timbangan bayi : [50000] prediksi indeks : 869.6419796086348\n",
            "timbangan bayi : [30000] prediksi indeks : 449.82408907362446\n",
            "timbangan bayi : [40000] prediksi indeks : 659.7330343411296\n"
          ]
        }
      ]
    },
    {
      "cell_type": "code",
      "source": [
        "print()\n",
        "fig = plt.figure()\n",
        "ax = fig.add_axes([0,0,1,1])\n",
        "ax.axis('equal')\n",
        "jurusan = df['jumlah']\n",
        "siswa = df['jumlah_bayi_lahir']\n",
        "ax.pie(siswa,labels=jurusan,autopct='%1.2f%%')\n",
        "plt.title(\"jumlah pesentaseu pichar\")\n",
        "plt.show()\n",
        "print()\n"
      ],
      "metadata": {
        "colab": {
          "base_uri": "https://localhost:8080/",
          "height": 370
        },
        "id": "yyC8zDYTaP00",
        "outputId": "547c5e6a-668d-4296-8300-f22afce1c320"
      },
      "execution_count": null,
      "outputs": [
        {
          "output_type": "stream",
          "name": "stdout",
          "text": [
            "\n"
          ]
        },
        {
          "output_type": "display_data",
          "data": {
            "text/plain": [
              "<Figure size 432x288 with 1 Axes>"
            ],
            "image/png": "[encoded data removed]"
          },
          "metadata": {}
        },
        {
          "output_type": "stream",
          "name": "stdout",
          "text": [
            "\n"
          ]
        }
      ]
    },
    {
      "cell_type": "code",
      "source": [
        "print(\"total jumlah E\")\n",
        "df['jumlah'].sum()"
      ],
      "metadata": {
        "colab": {
          "base_uri": "https://localhost:8080/"
        },
        "id": "jFKqOhNQ1bus",
        "outputId": "6163aeac-58aa-40ad-bd9b-bee493adba8c"
      },
      "execution_count": 11,
      "outputs": [
        {
          "output_type": "stream",
          "name": "stdout",
          "text": [
            "total jumlah E\n"
          ]
        },
        {
          "output_type": "execute_result",
          "data": {
            "text/plain": [
              "11887"
            ]
          },
          "metadata": {},
          "execution_count": 11
        }
      ]
    },
    {
      "cell_type": "code",
      "source": [
        "print(\"total jumlah E\")\n",
        "df['jumlah_bayi_lahir'].sum()"
      ],
      "metadata": {
        "colab": {
          "base_uri": "https://localhost:8080/"
        },
        "id": "Ik71n27_1efR",
        "outputId": "deded672-3b9d-4fb0-baa8-0ff76a0b96cd"
      },
      "execution_count": 12,
      "outputs": [
        {
          "output_type": "stream",
          "name": "stdout",
          "text": [
            "total jumlah E\n"
          ]
        },
        {
          "output_type": "execute_result",
          "data": {
            "text/plain": [
              "780556"
            ]
          },
          "metadata": {},
          "execution_count": 12
        }
      ]
    },
    {
      "cell_type": "code",
      "source": [
        "print()\n",
        "fig = plt.figure()\n",
        "ax = fig.add_axes([0, 0, 1, 1,])\n",
        "jurusan = ['jumlah','jumlah bayi lahir']\n",
        "siswa = [11887,78055.6]\n",
        "c = ['blue','cyan','black']\n",
        "plt.title(\"Jumlah Jumlah Kepala Keluarga\")\n",
        "plt.bar(jurusan, siswa, color = c)\n",
        "plt.show()\n",
        "print()"
      ],
      "metadata": {
        "colab": {
          "base_uri": "https://localhost:8080/",
          "height": 387
        },
        "id": "cH83nhjwbGg-",
        "outputId": "7296597f-25f3-4b30-fd96-bc27e30b6dac"
      },
      "execution_count": 14,
      "outputs": [
        {
          "output_type": "stream",
          "name": "stdout",
          "text": [
            "\n"
          ]
        },
        {
          "output_type": "display_data",
          "data": {
            "text/plain": [
              "<Figure size 432x288 with 1 Axes>"
            ],
            "image/png": "[encoded data removed]"
          },
          "metadata": {
            "needs_background": "light"
          }
        },
        {
          "output_type": "stream",
          "name": "stdout",
          "text": [
            "\n"
          ]
        }
      ]
    }
  ]
}