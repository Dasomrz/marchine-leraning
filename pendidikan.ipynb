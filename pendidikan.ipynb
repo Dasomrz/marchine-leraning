{
  "nbformat": 4,
  "nbformat_minor": 0,
  "metadata": {
    "colab": {
      "provenance": []
    },
    "kernelspec": {
      "name": "python3",
      "display_name": "Python 3"
    },
    "language_info": {
      "name": "python"
    }
  },
  "cells": [
    {
      "cell_type": "code",
      "execution_count": 2,
      "metadata": {
        "colab": {
          "base_uri": "https://localhost:8080/"
        },
        "id": "0BuPzG3mrc0P",
        "outputId": "577dccdd-7a53-4730-e44e-c7466457c28f"
      },
      "outputs": [
        {
          "output_type": "stream",
          "name": "stdout",
          "text": [
            "Mounted at /content/drive\n"
          ]
        }
      ],
      "source": [
        "from google.colab import drive \n",
        "drive.mount('/content/drive')"
      ]
    },
    {
      "cell_type": "code",
      "source": [
        "import pandas as pd \n",
        "path = '/content/drive/MyDrive/CSV/aduh - Sheet1.csv' \n",
        "df = pd.read_csv(path) \n",
        "\n",
        "df.describe() "
      ],
      "metadata": {
        "colab": {
          "base_uri": "https://localhost:8080/",
          "height": 300
        },
        "id": "2Bfky900ri7v",
        "outputId": "2d99e7f3-b727-4026-b997-2f9da81806b7"
      },
      "execution_count": 9,
      "outputs": [
        {
          "output_type": "execute_result",
          "data": {
            "text/plain": [
              "       jumlah_sekolah  jumlah_murid   jumlah_guru  jumlah_bantuan\n",
              "count       25.000000     25.000000     25.000000       25.000000\n",
              "mean      1291.400000  12532.480000   7222.440000   227294.920000\n",
              "std        602.527662   9017.798055   5971.252731   112182.516812\n",
              "min        517.000000     58.000000     35.000000   109932.000000\n",
              "25%        798.000000  10064.000000   4604.000000   148276.000000\n",
              "50%       1239.000000  11363.000000   5751.000000   197700.000000\n",
              "75%       1781.000000  13894.000000   8524.000000   216676.000000\n",
              "max       2223.000000  29229.000000  18142.000000   490398.000000"
            ],
            "text/html": [
              "\n",
              "  <div id=\"df-c627b31a-2373-455e-9758-1a2a18f487be\">\n",
              "    <div class=\"colab-df-container\">\n",
              "      <div>\n",
              "<style scoped>\n",
              "    .dataframe tbody tr th:only-of-type {\n",
              "        vertical-align: middle;\n",
              "    }\n",
              "\n",
              "    .dataframe tbody tr th {\n",
              "        vertical-align: top;\n",
              "    }\n",
              "\n",
              "    .dataframe thead th {\n",
              "        text-align: right;\n",
              "    }\n",
              "</style>\n",
              "<table border=\"1\" class=\"dataframe\">\n",
              "  <thead>\n",
              "    <tr style=\"text-align: right;\">\n",
              "      <th></th>\n",
              "      <th>jumlah_sekolah</th>\n",
              "      <th>jumlah_murid</th>\n",
              "      <th>jumlah_guru</th>\n",
              "      <th>jumlah_bantuan</th>\n",
              "    </tr>\n",
              "  </thead>\n",
              "  <tbody>\n",
              "    <tr>\n",
              "      <th>count</th>\n",
              "      <td>25.000000</td>\n",
              "      <td>25.000000</td>\n",
              "      <td>25.000000</td>\n",
              "      <td>25.000000</td>\n",
              "    </tr>\n",
              "    <tr>\n",
              "      <th>mean</th>\n",
              "      <td>1291.400000</td>\n",
              "      <td>12532.480000</td>\n",
              "      <td>7222.440000</td>\n",
              "      <td>227294.920000</td>\n",
              "    </tr>\n",
              "    <tr>\n",
              "      <th>std</th>\n",
              "      <td>602.527662</td>\n",
              "      <td>9017.798055</td>\n",
              "      <td>5971.252731</td>\n",
              "      <td>112182.516812</td>\n",
              "    </tr>\n",
              "    <tr>\n",
              "      <th>min</th>\n",
              "      <td>517.000000</td>\n",
              "      <td>58.000000</td>\n",
              "      <td>35.000000</td>\n",
              "      <td>109932.000000</td>\n",
              "    </tr>\n",
              "    <tr>\n",
              "      <th>25%</th>\n",
              "      <td>798.000000</td>\n",
              "      <td>10064.000000</td>\n",
              "      <td>4604.000000</td>\n",
              "      <td>148276.000000</td>\n",
              "    </tr>\n",
              "    <tr>\n",
              "      <th>50%</th>\n",
              "      <td>1239.000000</td>\n",
              "      <td>11363.000000</td>\n",
              "      <td>5751.000000</td>\n",
              "      <td>197700.000000</td>\n",
              "    </tr>\n",
              "    <tr>\n",
              "      <th>75%</th>\n",
              "      <td>1781.000000</td>\n",
              "      <td>13894.000000</td>\n",
              "      <td>8524.000000</td>\n",
              "      <td>216676.000000</td>\n",
              "    </tr>\n",
              "    <tr>\n",
              "      <th>max</th>\n",
              "      <td>2223.000000</td>\n",
              "      <td>29229.000000</td>\n",
              "      <td>18142.000000</td>\n",
              "      <td>490398.000000</td>\n",
              "    </tr>\n",
              "  </tbody>\n",
              "</table>\n",
              "</div>\n",
              "      <button class=\"colab-df-convert\" onclick=\"convertToInteractive('df-c627b31a-2373-455e-9758-1a2a18f487be')\"\n",
              "              title=\"Convert this dataframe to an interactive table.\"\n",
              "              style=\"display:none;\">\n",
              "        \n",
              "  <svg xmlns=\"http://www.w3.org/2000/svg\" height=\"24px\"viewBox=\"0 0 24 24\"\n",
              "       width=\"24px\">\n",
              "    <path d=\"M0 0h24v24H0V0z\" fill=\"none\"/>\n",
              "    <path d=\"M18.56 5.44l.94 2.06.94-2.06 2.06-.94-2.06-.94-.94-2.06-.94 2.06-2.06.94zm-11 1L8.5 8.5l.94-2.06 2.06-.94-2.06-.94L8.5 2.5l-.94 2.06-2.06.94zm10 10l.94 2.06.94-2.06 2.06-.94-2.06-.94-.94-2.06-.94 2.06-2.06.94z\"/><path d=\"M17.41 7.96l-1.37-1.37c-.4-.4-.92-.59-1.43-.59-.52 0-1.04.2-1.43.59L10.3 9.45l-7.72 7.72c-.78.78-.78 2.05 0 2.83L4 21.41c.39.39.9.59 1.41.59.51 0 1.02-.2 1.41-.59l7.78-7.78 2.81-2.81c.8-.78.8-2.07 0-2.86zM5.41 20L4 18.59l7.72-7.72 1.47 1.35L5.41 20z\"/>\n",
              "  </svg>\n",
              "      </button>\n",
              "      \n",
              "  <style>\n",
              "    .colab-df-container {\n",
              "      display:flex;\n",
              "      flex-wrap:wrap;\n",
              "      gap: 12px;\n",
              "    }\n",
              "\n",
              "    .colab-df-convert {\n",
              "      background-color: #E8F0FE;\n",
              "      border: none;\n",
              "      border-radius: 50%;\n",
              "      cursor: pointer;\n",
              "      display: none;\n",
              "      fill: #1967D2;\n",
              "      height: 32px;\n",
              "      padding: 0 0 0 0;\n",
              "      width: 32px;\n",
              "    }\n",
              "\n",
              "    .colab-df-convert:hover {\n",
              "      background-color: #E2EBFA;\n",
              "      box-shadow: 0px 1px 2px rgba(60, 64, 67, 0.3), 0px 1px 3px 1px rgba(60, 64, 67, 0.15);\n",
              "      fill: #174EA6;\n",
              "    }\n",
              "\n",
              "    [theme=dark] .colab-df-convert {\n",
              "      background-color: #3B4455;\n",
              "      fill: #D2E3FC;\n",
              "    }\n",
              "\n",
              "    [theme=dark] .colab-df-convert:hover {\n",
              "      background-color: #434B5C;\n",
              "      box-shadow: 0px 1px 3px 1px rgba(0, 0, 0, 0.15);\n",
              "      filter: drop-shadow(0px 1px 2px rgba(0, 0, 0, 0.3));\n",
              "      fill: #FFFFFF;\n",
              "    }\n",
              "  </style>\n",
              "\n",
              "      <script>\n",
              "        const buttonEl =\n",
              "          document.querySelector('#df-c627b31a-2373-455e-9758-1a2a18f487be button.colab-df-convert');\n",
              "        buttonEl.style.display =\n",
              "          google.colab.kernel.accessAllowed ? 'block' : 'none';\n",
              "\n",
              "        async function convertToInteractive(key) {\n",
              "          const element = document.querySelector('#df-c627b31a-2373-455e-9758-1a2a18f487be');\n",
              "          const dataTable =\n",
              "            await google.colab.kernel.invokeFunction('convertToInteractive',\n",
              "                                                     [key], {});\n",
              "          if (!dataTable) return;\n",
              "\n",
              "          const docLinkHtml = 'Like what you see? Visit the ' +\n",
              "            '<a target=\"_blank\" href=https://colab.research.google.com/notebooks/data_table.ipynb>data table notebook</a>'\n",
              "            + ' to learn more about interactive tables.';\n",
              "          element.innerHTML = '';\n",
              "          dataTable['output_type'] = 'display_data';\n",
              "          await google.colab.output.renderOutput(dataTable, element);\n",
              "          const docLink = document.createElement('div');\n",
              "          docLink.innerHTML = docLinkHtml;\n",
              "          element.appendChild(docLink);\n",
              "        }\n",
              "      </script>\n",
              "    </div>\n",
              "  </div>\n",
              "  "
            ]
          },
          "metadata": {},
          "execution_count": 9
        }
      ]
    },
    {
      "cell_type": "code",
      "source": [
        "df"
      ],
      "metadata": {
        "colab": {
          "base_uri": "https://localhost:8080/",
          "height": 833
        },
        "id": "uQtvjgG2rgJt",
        "outputId": "c669b6fa-afcb-40b9-e4ab-397341a3b09a"
      },
      "execution_count": 10,
      "outputs": [
        {
          "output_type": "execute_result",
          "data": {
            "text/plain": [
              "        tahun tingkat_sekolah jenis_sekolah  jumlah_sekolah  jumlah_murid  \\\n",
              "0   2013-2014             SMP        Negeri             517         11363   \n",
              "1   2012-2013             SMP        Swasta             522         12133   \n",
              "2   2012-2013             SMP        Negeri             530         11685   \n",
              "3   2011-2012             SMP        Swasta             536         11235   \n",
              "4   2011-2012             SMP        Negeri             546         13012   \n",
              "5   2015-2016              SD        Swasta             650         14267   \n",
              "6   2015-2016              SD        Negeri             798         25663   \n",
              "7   2014-2015              SD        Swasta             816         13820   \n",
              "8   2014-2015              SD        Negeri             951         27104   \n",
              "9   2013-2014              SD        Swasta            1075         13894   \n",
              "10  2013-2014              SD        Negeri            1140         28269   \n",
              "11  2012-2013              SD        Swasta            1204         13824   \n",
              "12  2012-2013              SD        Negeri            1339         29229   \n",
              "13  2011-2012              SD        Swasta            1239         10340   \n",
              "14  2011-2012              SD        Negeri            1311         27145   \n",
              "15  2015-2016              TK        Swasta            1421         10391   \n",
              "16  2015-2016              TK        Negeri            1432           122   \n",
              "17  2014-2015              TK        Swasta            1667         10471   \n",
              "18  2014-2015              TK        Negeri            1781            70   \n",
              "19  2013-2014              TK        Swasta            1990         10346   \n",
              "20  2013-2014              TK        Negeri            2056           103   \n",
              "21  2012-2013              TK        Swasta            2111         10064   \n",
              "22  2011-2012              TK        Swasta            2222          8646   \n",
              "23  2011-2012              TK        Negeri            2223            58   \n",
              "24  2012-2013              TK        Negeri            2208            58   \n",
              "\n",
              "    jumlah_guru  jumlah_bantuan  \n",
              "0          4673          109932  \n",
              "1          6083          117699  \n",
              "2          4673          134016  \n",
              "3          4997          138681  \n",
              "4          4673          141666  \n",
              "5          8877          143294  \n",
              "6         16489          148276  \n",
              "7          8524          154049  \n",
              "8         17218          156237  \n",
              "9          8524          161217  \n",
              "10        18142          175184  \n",
              "11         8001          195309  \n",
              "12        18142          197700  \n",
              "13         7177          201529  \n",
              "14        18142          206032  \n",
              "15         5949          208064  \n",
              "16           79          213814  \n",
              "17         5751          214795  \n",
              "18           35          216676  \n",
              "19         4604          321756  \n",
              "20           35          353605  \n",
              "21         4524          379839  \n",
              "22         5179          449508  \n",
              "23           35          453097  \n",
              "24           35          490398  "
            ],
            "text/html": [
              "\n",
              "  <div id=\"df-1a6cfdd9-4941-4f0f-8a1b-9eb657f7c02e\">\n",
              "    <div class=\"colab-df-container\">\n",
              "      <div>\n",
              "<style scoped>\n",
              "    .dataframe tbody tr th:only-of-type {\n",
              "        vertical-align: middle;\n",
              "    }\n",
              "\n",
              "    .dataframe tbody tr th {\n",
              "        vertical-align: top;\n",
              "    }\n",
              "\n",
              "    .dataframe thead th {\n",
              "        text-align: right;\n",
              "    }\n",
              "</style>\n",
              "<table border=\"1\" class=\"dataframe\">\n",
              "  <thead>\n",
              "    <tr style=\"text-align: right;\">\n",
              "      <th></th>\n",
              "      <th>tahun</th>\n",
              "      <th>tingkat_sekolah</th>\n",
              "      <th>jenis_sekolah</th>\n",
              "      <th>jumlah_sekolah</th>\n",
              "      <th>jumlah_murid</th>\n",
              "      <th>jumlah_guru</th>\n",
              "      <th>jumlah_bantuan</th>\n",
              "    </tr>\n",
              "  </thead>\n",
              "  <tbody>\n",
              "    <tr>\n",
              "      <th>0</th>\n",
              "      <td>2013-2014</td>\n",
              "      <td>SMP</td>\n",
              "      <td>Negeri</td>\n",
              "      <td>517</td>\n",
              "      <td>11363</td>\n",
              "      <td>4673</td>\n",
              "      <td>109932</td>\n",
              "    </tr>\n",
              "    <tr>\n",
              "      <th>1</th>\n",
              "      <td>2012-2013</td>\n",
              "      <td>SMP</td>\n",
              "      <td>Swasta</td>\n",
              "      <td>522</td>\n",
              "      <td>12133</td>\n",
              "      <td>6083</td>\n",
              "      <td>117699</td>\n",
              "    </tr>\n",
              "    <tr>\n",
              "      <th>2</th>\n",
              "      <td>2012-2013</td>\n",
              "      <td>SMP</td>\n",
              "      <td>Negeri</td>\n",
              "      <td>530</td>\n",
              "      <td>11685</td>\n",
              "      <td>4673</td>\n",
              "      <td>134016</td>\n",
              "    </tr>\n",
              "    <tr>\n",
              "      <th>3</th>\n",
              "      <td>2011-2012</td>\n",
              "      <td>SMP</td>\n",
              "      <td>Swasta</td>\n",
              "      <td>536</td>\n",
              "      <td>11235</td>\n",
              "      <td>4997</td>\n",
              "      <td>138681</td>\n",
              "    </tr>\n",
              "    <tr>\n",
              "      <th>4</th>\n",
              "      <td>2011-2012</td>\n",
              "      <td>SMP</td>\n",
              "      <td>Negeri</td>\n",
              "      <td>546</td>\n",
              "      <td>13012</td>\n",
              "      <td>4673</td>\n",
              "      <td>141666</td>\n",
              "    </tr>\n",
              "    <tr>\n",
              "      <th>5</th>\n",
              "      <td>2015-2016</td>\n",
              "      <td>SD</td>\n",
              "      <td>Swasta</td>\n",
              "      <td>650</td>\n",
              "      <td>14267</td>\n",
              "      <td>8877</td>\n",
              "      <td>143294</td>\n",
              "    </tr>\n",
              "    <tr>\n",
              "      <th>6</th>\n",
              "      <td>2015-2016</td>\n",
              "      <td>SD</td>\n",
              "      <td>Negeri</td>\n",
              "      <td>798</td>\n",
              "      <td>25663</td>\n",
              "      <td>16489</td>\n",
              "      <td>148276</td>\n",
              "    </tr>\n",
              "    <tr>\n",
              "      <th>7</th>\n",
              "      <td>2014-2015</td>\n",
              "      <td>SD</td>\n",
              "      <td>Swasta</td>\n",
              "      <td>816</td>\n",
              "      <td>13820</td>\n",
              "      <td>8524</td>\n",
              "      <td>154049</td>\n",
              "    </tr>\n",
              "    <tr>\n",
              "      <th>8</th>\n",
              "      <td>2014-2015</td>\n",
              "      <td>SD</td>\n",
              "      <td>Negeri</td>\n",
              "      <td>951</td>\n",
              "      <td>27104</td>\n",
              "      <td>17218</td>\n",
              "      <td>156237</td>\n",
              "    </tr>\n",
              "    <tr>\n",
              "      <th>9</th>\n",
              "      <td>2013-2014</td>\n",
              "      <td>SD</td>\n",
              "      <td>Swasta</td>\n",
              "      <td>1075</td>\n",
              "      <td>13894</td>\n",
              "      <td>8524</td>\n",
              "      <td>161217</td>\n",
              "    </tr>\n",
              "    <tr>\n",
              "      <th>10</th>\n",
              "      <td>2013-2014</td>\n",
              "      <td>SD</td>\n",
              "      <td>Negeri</td>\n",
              "      <td>1140</td>\n",
              "      <td>28269</td>\n",
              "      <td>18142</td>\n",
              "      <td>175184</td>\n",
              "    </tr>\n",
              "    <tr>\n",
              "      <th>11</th>\n",
              "      <td>2012-2013</td>\n",
              "      <td>SD</td>\n",
              "      <td>Swasta</td>\n",
              "      <td>1204</td>\n",
              "      <td>13824</td>\n",
              "      <td>8001</td>\n",
              "      <td>195309</td>\n",
              "    </tr>\n",
              "    <tr>\n",
              "      <th>12</th>\n",
              "      <td>2012-2013</td>\n",
              "      <td>SD</td>\n",
              "      <td>Negeri</td>\n",
              "      <td>1339</td>\n",
              "      <td>29229</td>\n",
              "      <td>18142</td>\n",
              "      <td>197700</td>\n",
              "    </tr>\n",
              "    <tr>\n",
              "      <th>13</th>\n",
              "      <td>2011-2012</td>\n",
              "      <td>SD</td>\n",
              "      <td>Swasta</td>\n",
              "      <td>1239</td>\n",
              "      <td>10340</td>\n",
              "      <td>7177</td>\n",
              "      <td>201529</td>\n",
              "    </tr>\n",
              "    <tr>\n",
              "      <th>14</th>\n",
              "      <td>2011-2012</td>\n",
              "      <td>SD</td>\n",
              "      <td>Negeri</td>\n",
              "      <td>1311</td>\n",
              "      <td>27145</td>\n",
              "      <td>18142</td>\n",
              "      <td>206032</td>\n",
              "    </tr>\n",
              "    <tr>\n",
              "      <th>15</th>\n",
              "      <td>2015-2016</td>\n",
              "      <td>TK</td>\n",
              "      <td>Swasta</td>\n",
              "      <td>1421</td>\n",
              "      <td>10391</td>\n",
              "      <td>5949</td>\n",
              "      <td>208064</td>\n",
              "    </tr>\n",
              "    <tr>\n",
              "      <th>16</th>\n",
              "      <td>2015-2016</td>\n",
              "      <td>TK</td>\n",
              "      <td>Negeri</td>\n",
              "      <td>1432</td>\n",
              "      <td>122</td>\n",
              "      <td>79</td>\n",
              "      <td>213814</td>\n",
              "    </tr>\n",
              "    <tr>\n",
              "      <th>17</th>\n",
              "      <td>2014-2015</td>\n",
              "      <td>TK</td>\n",
              "      <td>Swasta</td>\n",
              "      <td>1667</td>\n",
              "      <td>10471</td>\n",
              "      <td>5751</td>\n",
              "      <td>214795</td>\n",
              "    </tr>\n",
              "    <tr>\n",
              "      <th>18</th>\n",
              "      <td>2014-2015</td>\n",
              "      <td>TK</td>\n",
              "      <td>Negeri</td>\n",
              "      <td>1781</td>\n",
              "      <td>70</td>\n",
              "      <td>35</td>\n",
              "      <td>216676</td>\n",
              "    </tr>\n",
              "    <tr>\n",
              "      <th>19</th>\n",
              "      <td>2013-2014</td>\n",
              "      <td>TK</td>\n",
              "      <td>Swasta</td>\n",
              "      <td>1990</td>\n",
              "      <td>10346</td>\n",
              "      <td>4604</td>\n",
              "      <td>321756</td>\n",
              "    </tr>\n",
              "    <tr>\n",
              "      <th>20</th>\n",
              "      <td>2013-2014</td>\n",
              "      <td>TK</td>\n",
              "      <td>Negeri</td>\n",
              "      <td>2056</td>\n",
              "      <td>103</td>\n",
              "      <td>35</td>\n",
              "      <td>353605</td>\n",
              "    </tr>\n",
              "    <tr>\n",
              "      <th>21</th>\n",
              "      <td>2012-2013</td>\n",
              "      <td>TK</td>\n",
              "      <td>Swasta</td>\n",
              "      <td>2111</td>\n",
              "      <td>10064</td>\n",
              "      <td>4524</td>\n",
              "      <td>379839</td>\n",
              "    </tr>\n",
              "    <tr>\n",
              "      <th>22</th>\n",
              "      <td>2011-2012</td>\n",
              "      <td>TK</td>\n",
              "      <td>Swasta</td>\n",
              "      <td>2222</td>\n",
              "      <td>8646</td>\n",
              "      <td>5179</td>\n",
              "      <td>449508</td>\n",
              "    </tr>\n",
              "    <tr>\n",
              "      <th>23</th>\n",
              "      <td>2011-2012</td>\n",
              "      <td>TK</td>\n",
              "      <td>Negeri</td>\n",
              "      <td>2223</td>\n",
              "      <td>58</td>\n",
              "      <td>35</td>\n",
              "      <td>453097</td>\n",
              "    </tr>\n",
              "    <tr>\n",
              "      <th>24</th>\n",
              "      <td>2012-2013</td>\n",
              "      <td>TK</td>\n",
              "      <td>Negeri</td>\n",
              "      <td>2208</td>\n",
              "      <td>58</td>\n",
              "      <td>35</td>\n",
              "      <td>490398</td>\n",
              "    </tr>\n",
              "  </tbody>\n",
              "</table>\n",
              "</div>\n",
              "      <button class=\"colab-df-convert\" onclick=\"convertToInteractive('df-1a6cfdd9-4941-4f0f-8a1b-9eb657f7c02e')\"\n",
              "              title=\"Convert this dataframe to an interactive table.\"\n",
              "              style=\"display:none;\">\n",
              "        \n",
              "  <svg xmlns=\"http://www.w3.org/2000/svg\" height=\"24px\"viewBox=\"0 0 24 24\"\n",
              "       width=\"24px\">\n",
              "    <path d=\"M0 0h24v24H0V0z\" fill=\"none\"/>\n",
              "    <path d=\"M18.56 5.44l.94 2.06.94-2.06 2.06-.94-2.06-.94-.94-2.06-.94 2.06-2.06.94zm-11 1L8.5 8.5l.94-2.06 2.06-.94-2.06-.94L8.5 2.5l-.94 2.06-2.06.94zm10 10l.94 2.06.94-2.06 2.06-.94-2.06-.94-.94-2.06-.94 2.06-2.06.94z\"/><path d=\"M17.41 7.96l-1.37-1.37c-.4-.4-.92-.59-1.43-.59-.52 0-1.04.2-1.43.59L10.3 9.45l-7.72 7.72c-.78.78-.78 2.05 0 2.83L4 21.41c.39.39.9.59 1.41.59.51 0 1.02-.2 1.41-.59l7.78-7.78 2.81-2.81c.8-.78.8-2.07 0-2.86zM5.41 20L4 18.59l7.72-7.72 1.47 1.35L5.41 20z\"/>\n",
              "  </svg>\n",
              "      </button>\n",
              "      \n",
              "  <style>\n",
              "    .colab-df-container {\n",
              "      display:flex;\n",
              "      flex-wrap:wrap;\n",
              "      gap: 12px;\n",
              "    }\n",
              "\n",
              "    .colab-df-convert {\n",
              "      background-color: #E8F0FE;\n",
              "      border: none;\n",
              "      border-radius: 50%;\n",
              "      cursor: pointer;\n",
              "      display: none;\n",
              "      fill: #1967D2;\n",
              "      height: 32px;\n",
              "      padding: 0 0 0 0;\n",
              "      width: 32px;\n",
              "    }\n",
              "\n",
              "    .colab-df-convert:hover {\n",
              "      background-color: #E2EBFA;\n",
              "      box-shadow: 0px 1px 2px rgba(60, 64, 67, 0.3), 0px 1px 3px 1px rgba(60, 64, 67, 0.15);\n",
              "      fill: #174EA6;\n",
              "    }\n",
              "\n",
              "    [theme=dark] .colab-df-convert {\n",
              "      background-color: #3B4455;\n",
              "      fill: #D2E3FC;\n",
              "    }\n",
              "\n",
              "    [theme=dark] .colab-df-convert:hover {\n",
              "      background-color: #434B5C;\n",
              "      box-shadow: 0px 1px 3px 1px rgba(0, 0, 0, 0.15);\n",
              "      filter: drop-shadow(0px 1px 2px rgba(0, 0, 0, 0.3));\n",
              "      fill: #FFFFFF;\n",
              "    }\n",
              "  </style>\n",
              "\n",
              "      <script>\n",
              "        const buttonEl =\n",
              "          document.querySelector('#df-1a6cfdd9-4941-4f0f-8a1b-9eb657f7c02e button.colab-df-convert');\n",
              "        buttonEl.style.display =\n",
              "          google.colab.kernel.accessAllowed ? 'block' : 'none';\n",
              "\n",
              "        async function convertToInteractive(key) {\n",
              "          const element = document.querySelector('#df-1a6cfdd9-4941-4f0f-8a1b-9eb657f7c02e');\n",
              "          const dataTable =\n",
              "            await google.colab.kernel.invokeFunction('convertToInteractive',\n",
              "                                                     [key], {});\n",
              "          if (!dataTable) return;\n",
              "\n",
              "          const docLinkHtml = 'Like what you see? Visit the ' +\n",
              "            '<a target=\"_blank\" href=https://colab.research.google.com/notebooks/data_table.ipynb>data table notebook</a>'\n",
              "            + ' to learn more about interactive tables.';\n",
              "          element.innerHTML = '';\n",
              "          dataTable['output_type'] = 'display_data';\n",
              "          await google.colab.output.renderOutput(dataTable, element);\n",
              "          const docLink = document.createElement('div');\n",
              "          docLink.innerHTML = docLinkHtml;\n",
              "          element.appendChild(docLink);\n",
              "        }\n",
              "      </script>\n",
              "    </div>\n",
              "  </div>\n",
              "  "
            ]
          },
          "metadata": {},
          "execution_count": 10
        }
      ]
    },
    {
      "cell_type": "code",
      "source": [
        "import matplotlib.pyplot as plt #Visualisasi data\n",
        "\n",
        "df.plot(kind='scatter', x='jumlah_sekolah', y= 'jumlah_bantuan') #untuk nama variable\n",
        "\n",
        "plt.title('indeks kesejahteraan warga')\n",
        "plt.xlabel('jumlah penduduk')\n",
        "plt.ylabel('indeks')\n",
        "plt.xlim(1, 2208) \n",
        "plt.ylim(0, 490398) \n",
        "plt.grid(True)\n",
        "plt.show()"
      ],
      "metadata": {
        "colab": {
          "base_uri": "https://localhost:8080/",
          "height": 295
        },
        "id": "J_gruf0nr4xk",
        "outputId": "711a167d-c6cf-46dc-dd48-d80e02cc95b5"
      },
      "execution_count": 13,
      "outputs": [
        {
          "output_type": "display_data",
          "data": {
            "text/plain": [
              "<Figure size 432x288 with 1 Axes>"
            ],
            "image/png": "[encoded data removed]"
          },
          "metadata": {
            "needs_background": "light"
          }
        }
      ]
    },
    {
      "cell_type": "code",
      "source": [
        "import numpy as np\n",
        "x = np.array(df['jumlah_sekolah']) #Feature\n",
        "y = np.array(df['jumlah_bantuan']) #Target\n",
        "#\n",
        "print(f'x : {x}') # Data x itu adalah variable indepent atau bebas\n",
        "print(f'y : {y}') # var y itu adalah variable terikat/indepent "
      ],
      "metadata": {
        "colab": {
          "base_uri": "https://localhost:8080/"
        },
        "id": "Lx9WuKLgsfEq",
        "outputId": "261f2354-efb5-44ee-f028-a103db20fdf3"
      },
      "execution_count": 14,
      "outputs": [
        {
          "output_type": "stream",
          "name": "stdout",
          "text": [
            "x : [ 517  522  530  536  546  650  798  816  951 1075 1140 1204 1339 1239\n",
            " 1311 1421 1432 1667 1781 1990 2056 2111 2222 2223 2208]\n",
            "y : [109932 117699 134016 138681 141666 143294 148276 154049 156237 161217\n",
            " 175184 195309 197700 201529 206032 208064 213814 214795 216676 321756\n",
            " 353605 379839 449508 453097 490398]\n"
          ]
        }
      ]
    },
    {
      "cell_type": "code",
      "source": [
        "x = x.reshape(-1,1) #Reshaping atau slice data\n",
        "x.shape"
      ],
      "metadata": {
        "colab": {
          "base_uri": "https://localhost:8080/"
        },
        "id": "lF3hrQQLshlm",
        "outputId": "e3f4dd39-fe3f-4352-94c6-1a415dafbf19"
      },
      "execution_count": 15,
      "outputs": [
        {
          "output_type": "execute_result",
          "data": {
            "text/plain": [
              "(25, 1)"
            ]
          },
          "metadata": {},
          "execution_count": 15
        }
      ]
    },
    {
      "cell_type": "code",
      "source": [
        "x"
      ],
      "metadata": {
        "colab": {
          "base_uri": "https://localhost:8080/"
        },
        "id": "OX2v7bOpsl-u",
        "outputId": "1b0d67a3-6bcd-488c-ecd3-1ba16876b66c"
      },
      "execution_count": 16,
      "outputs": [
        {
          "output_type": "execute_result",
          "data": {
            "text/plain": [
              "array([[ 517],\n",
              "       [ 522],\n",
              "       [ 530],\n",
              "       [ 536],\n",
              "       [ 546],\n",
              "       [ 650],\n",
              "       [ 798],\n",
              "       [ 816],\n",
              "       [ 951],\n",
              "       [1075],\n",
              "       [1140],\n",
              "       [1204],\n",
              "       [1339],\n",
              "       [1239],\n",
              "       [1311],\n",
              "       [1421],\n",
              "       [1432],\n",
              "       [1667],\n",
              "       [1781],\n",
              "       [1990],\n",
              "       [2056],\n",
              "       [2111],\n",
              "       [2222],\n",
              "       [2223],\n",
              "       [2208]])"
            ]
          },
          "metadata": {},
          "execution_count": 16
        }
      ]
    },
    {
      "cell_type": "code",
      "source": [
        "#training model\n",
        "from sklearn.linear_model import LinearRegression #memanggil model regressi linear\n",
        "\n",
        "model = LinearRegression() #Variable model bisa di ganti\n",
        "model.fit(x,y) #X feature , y target\n",
        "\n",
        "#menjadi training model"
      ],
      "metadata": {
        "colab": {
          "base_uri": "https://localhost:8080/"
        },
        "id": "YqhYvW1ismbQ",
        "outputId": "4d0d9975-c8a0-4004-e6ba-af61a070ea59"
      },
      "execution_count": 17,
      "outputs": [
        {
          "output_type": "execute_result",
          "data": {
            "text/plain": [
              "LinearRegression()"
            ]
          },
          "metadata": {},
          "execution_count": 17
        }
      ]
    },
    {
      "cell_type": "code",
      "source": [
        "x_vis = np.array([0,490398]).reshape(-1, 1) #pembuatan garis merah dari x\n",
        "y_vis = model.predict(x_vis) #Model machine learning"
      ],
      "metadata": {
        "id": "EnJbugvuso8A"
      },
      "execution_count": 19,
      "outputs": []
    },
    {
      "cell_type": "code",
      "source": [
        "plt.scatter(x, y)\n",
        "plt.plot(x_vis, y_vis, '-r')\n",
        "plt.title('indeks kesejahteraan warga')\n",
        "plt.xlabel('jumlah penduduk')\n",
        "plt.ylabel('indeks')\n",
        "plt.xlim(250, 2208) \n",
        "plt.ylim(0, 490398)  \n",
        "plt.grid(True)\n",
        "plt.show()"
      ],
      "metadata": {
        "colab": {
          "base_uri": "https://localhost:8080/",
          "height": 295
        },
        "id": "q_b2BuJaswLZ",
        "outputId": "57d62aa0-87c2-4f61-a6a6-a1b0e82d6c58"
      },
      "execution_count": 21,
      "outputs": [
        {
          "output_type": "display_data",
          "data": {
            "text/plain": [
              "<Figure size 432x288 with 1 Axes>"
            ],
            "image/png": "[encoded data removed]"
          },
          "metadata": {
            "needs_background": "light"
          }
        }
      ]
    },
    {
      "cell_type": "code",
      "source": [
        "omzet = np.array([190398, 290398, 340398, 420398, 200398]).reshape(-1, 1)\n",
        "omzet "
      ],
      "metadata": {
        "colab": {
          "base_uri": "https://localhost:8080/"
        },
        "id": "A-53v6PUtTE8",
        "outputId": "d2dc2844-4312-426c-de70-08dbebaacbf7"
      },
      "execution_count": 26,
      "outputs": [
        {
          "output_type": "execute_result",
          "data": {
            "text/plain": [
              "array([[190398],\n",
              "       [290398],\n",
              "       [340398],\n",
              "       [420398],\n",
              "       [200398]])"
            ]
          },
          "metadata": {},
          "execution_count": 26
        }
      ]
    },
    {
      "cell_type": "code",
      "source": [
        "prediksi_indeks = model.predict(omzet)\n",
        "prediksi_indeks"
      ],
      "metadata": {
        "colab": {
          "base_uri": "https://localhost:8080/"
        },
        "id": "mr2mSk6ZtgmA",
        "outputId": "fde3f4da-80fe-434e-d176-e94fabb7f9e2"
      },
      "execution_count": 27,
      "outputs": [
        {
          "output_type": "execute_result",
          "data": {
            "text/plain": [
              "array([32457909.53824978, 49501531.8223212 , 58023342.9643569 ,\n",
              "       71658240.79161403, 34162271.76665693])"
            ]
          },
          "metadata": {},
          "execution_count": 27
        }
      ]
    },
    {
      "cell_type": "code",
      "source": [
        "for penduduk, index in zip(omzet, prediksi_indeks):\n",
        "  print(f'jumlah bantuan : {penduduk} prediksi indeks : {index}')\n"
      ],
      "metadata": {
        "colab": {
          "base_uri": "https://localhost:8080/"
        },
        "id": "cPZXKv5BtiwX",
        "outputId": "482494c6-8bf3-4542-9969-d143366c3e56"
      },
      "execution_count": 29,
      "outputs": [
        {
          "output_type": "stream",
          "name": "stdout",
          "text": [
            "jumlah bantuan : [190398] prediksi indeks : 32457909.538249783\n",
            "jumlah bantuan : [290398] prediksi indeks : 49501531.8223212\n",
            "jumlah bantuan : [340398] prediksi indeks : 58023342.9643569\n",
            "jumlah bantuan : [420398] prediksi indeks : 71658240.79161403\n",
            "jumlah bantuan : [200398] prediksi indeks : 34162271.76665693\n"
          ]
        }
      ]
    },
    {
      "cell_type": "code",
      "source": [
        "print(\"total jumlah E\")\n",
        "df['jumlah_sekolah'].sum()"
      ],
      "metadata": {
        "colab": {
          "base_uri": "https://localhost:8080/"
        },
        "id": "VzCTpTkwz8IG",
        "outputId": "24bdab01-e54b-424a-8e9c-429b589d0b01"
      },
      "execution_count": 33,
      "outputs": [
        {
          "output_type": "stream",
          "name": "stdout",
          "text": [
            "total jumlah E\n"
          ]
        },
        {
          "output_type": "execute_result",
          "data": {
            "text/plain": [
              "32285"
            ]
          },
          "metadata": {},
          "execution_count": 33
        }
      ]
    },
    {
      "cell_type": "code",
      "source": [
        "print(\"total jumlah E\")\n",
        "df['jumlah_bantuan'].sum()"
      ],
      "metadata": {
        "colab": {
          "base_uri": "https://localhost:8080/"
        },
        "id": "UOo79cCf0F7c",
        "outputId": "0547ee72-4c3a-4454-c14d-cba3974bd1a9"
      },
      "execution_count": 34,
      "outputs": [
        {
          "output_type": "stream",
          "name": "stdout",
          "text": [
            "total jumlah E\n"
          ]
        },
        {
          "output_type": "execute_result",
          "data": {
            "text/plain": [
              "5682373"
            ]
          },
          "metadata": {},
          "execution_count": 34
        }
      ]
    },
    {
      "cell_type": "code",
      "source": [
        "print()\n",
        "fig = plt.figure()\n",
        "ax = fig.add_axes([0, 0, 1, 1,])\n",
        "jurusan = ['jumlah sekolah','jumlahbantuan']\n",
        "siswa = [32285,56823.73]\n",
        "c = ['blue','cyan','black']\n",
        "plt.title(\"Jumlah Jumlah Kepala Keluarga\")\n",
        "plt.bar(jurusan, siswa, color = c)\n",
        "plt.show()\n",
        "print()"
      ],
      "metadata": {
        "colab": {
          "base_uri": "https://localhost:8080/",
          "height": 387
        },
        "id": "Ip3RuiB7s2hI",
        "outputId": "290b4bee-cf4e-4b49-a6b9-055d40f07b42"
      },
      "execution_count": 38,
      "outputs": [
        {
          "output_type": "stream",
          "name": "stdout",
          "text": [
            "\n"
          ]
        },
        {
          "output_type": "display_data",
          "data": {
            "text/plain": [
              "<Figure size 432x288 with 1 Axes>"
            ],
            "image/png": "[encoded data removed]"
          },
          "metadata": {
            "needs_background": "light"
          }
        },
        {
          "output_type": "stream",
          "name": "stdout",
          "text": [
            "\n"
          ]
        }
      ]
    },
    {
      "cell_type": "code",
      "source": [
        "print()\n",
        "fig = plt.figure()\n",
        "ax = fig.add_axes([0,0,1,1])\n",
        "ax.axis('equal')\n",
        "jurusan = df['jumlah_sekolah']\n",
        "siswa = df['jumlah_bantuan']\n",
        "ax.pie(siswa,labels=jurusan,autopct='%1.2f%%')\n",
        "plt.title(\"jumlah pesentaseu pichar\")\n",
        "plt.show()\n",
        "print()\n"
      ],
      "metadata": {
        "colab": {
          "base_uri": "https://localhost:8080/",
          "height": 370
        },
        "id": "_tCbro2HtD7w",
        "outputId": "d2886af3-b708-4cfb-90b9-112b185bd20c"
      },
      "execution_count": 31,
      "outputs": [
        {
          "output_type": "stream",
          "name": "stdout",
          "text": [
            "\n"
          ]
        },
        {
          "output_type": "display_data",
          "data": {
            "text/plain": [
              "<Figure size 432x288 with 1 Axes>"
            ],
            "image/png": "[encoded data removed]"
          },
          "metadata": {}
        },
        {
          "output_type": "stream",
          "name": "stdout",
          "text": [
            "\n"
          ]
        }
      ]
    }
  ]
}